{
 "cells": [
  {
   "cell_type": "code",
   "execution_count": 8,
   "metadata": {},
   "outputs": [],
   "source": [
    "import openai\n",
    "import pandas as pd\n",
    "import numpy as np\n",
    "import json\n",
    "openai.api_key = \"glhf_2c58a5c4be6a270fdd76f82e6179d2f1\"\n",
    "openai.api_base = \"https://glhf.chat/api/openai/v1\"\n",
    "import time\n",
    "from tenacity import retry, stop_after_attempt, wait_exponential, retry_if_exception_type\n",
    "\n",
    "\n",
    "\n"
   ]
  },
  {
   "cell_type": "code",
   "execution_count": 3,
   "metadata": {},
   "outputs": [],
   "source": [
    "verbs = pd.read_csv('/Users/malhar.inamdar/Desktop/test/hindi-verbs.txt', header=None)\n",
    "adj = pd.read_csv('/Users/malhar.inamdar/Desktop/test/adjectives_hindi.txt', header=None)\n",
    "nouns = pd.read_csv('/Users/malhar.inamdar/Desktop/test/nouns_hindi.txt', header=None)\n",
    "end = np.array([\"happy\", \"sad\", \"mysterious\"])"
   ]
  },
  {
   "cell_type": "code",
   "execution_count": 4,
   "metadata": {},
   "outputs": [],
   "source": [
    "def generatePrompt():\n",
    "    verb = verbs.sample(n=1).iloc[0, 0]\n",
    "    noun = nouns.sample(n=1).iloc[0, 0]\n",
    "    adjective = adj.sample(n=1).iloc[0, 0]\n",
    "\n",
    "    ending = np.random.choice(end)\n",
    "    # Randomly select one of verb, noun, or adjective to use in the prompt\n",
    "    word_choice = np.random.choice([\"verb\", \"noun\", \"adjective\"])\n",
    "    word = verb if word_choice == \"verb\" else noun if word_choice == \"noun\" else adjective\n",
    "\n",
    "    basePromptHindi = f'''Write a simple Hindi children's story for a 5-year-old in 5-6 lines. The story should be inspired by Panchtantra tales and use easy, understandable language. Make it engaging with a clear beginning, middle, and end, and include only one brief dialogue between the characters. The story should have a gentle, natural resolution that reflects an emotion, such as happiness, friendship, or kindness, without explicitly using these words. Use the {word_choice} \"{word}\" naturally within the story.\n",
    "    The story should naturally lead to a {ending} ending, conveyed through the characters’ reactions, atmosphere, or conclusion without directly using the word {ending}.\n",
    "    Just give the marathi story'''\n",
    "    newPrompt = f'''Write a simple Hindi children's story for a 5-year-old in 5-6 lines. The story should be inspired by traditional folk tales like Panchtantra, but can feature a mix of characters—such as children, family members, nature elements, or gentle imaginary beings—aside from animals. \n",
    "    Use easy and understandable language. Create an engaging flow with a clear beginning, middle, and end, and include one brief, friendly dialogue between characters. The story should end with a positive resolution, reflecting an emotion like joy, kindness, or curiosity through actions and reactions rather than direct words. \n",
    "    Naturally incorporate the {word_choice} \"{word}\" within the story. Ensure the story subtly leads to a {ending} ending through atmosphere and actions, without directly using the word {ending}. Just provide the Hindi story.'''\n",
    "    return {'instruction':basePromptHindi, \"word\":word,\"ending\":ending}"
   ]
  },
  {
   "cell_type": "code",
   "execution_count": null,
   "metadata": {},
   "outputs": [],
   "source": [
    "#  handling API calls with exponential backoff\n",
    "@retry(\n",
    "    wait=wait_exponential(multiplier=1, min=4, max=60),  # Start with 4s delay, double each time, max 60s\n",
    "    stop=stop_after_attempt(5),  # Maximum 5 attempts\n",
    "    retry=retry_if_exception_type((openai.error.RateLimitError, openai.error.APIError, openai.error.Timeout))\n",
    ")\n",
    "def make_api_call(prompt):\n",
    "    return openai.ChatCompletion.create(\n",
    "        model=\"hf:google/gemma-2-27b-it\",\n",
    "        messages=[{\"role\": \"user\", \"content\": prompt}],\n",
    "        temperature=0.3,\n",
    "        max_tokens=500,\n",
    "        top_p=0.9,\n",
    "        frequency_penalty=0.5,\n",
    "        presence_penalty=1\n",
    "    )"
   ]
  },
  {
   "cell_type": "code",
   "execution_count": null,
   "metadata": {},
   "outputs": [],
   "source": [
    "# method using exponential backoff\n",
    "def store_dataset(n, batch_size=50):\n",
    "    data = {\n",
    "        \"output\": [],\n",
    "        \"input\": [],\n",
    "        \"instruction\": []\n",
    "    }\n",
    "    \n",
    "    stories_generated = 0\n",
    "    \n",
    "    while stories_generated < n:\n",
    "        batch_count = min(batch_size, n - stories_generated)\n",
    "        print(f\"Generating batch of {batch_count} stories. Progress: {stories_generated}/{n}\")\n",
    "        \n",
    "        for _ in range(batch_count):\n",
    "            try:\n",
    "                prompt = generatePrompt()\n",
    "                basePromptHindi = prompt['instruction']\n",
    "                \n",
    "                completion = make_api_call(basePromptHindi)\n",
    "                response_message = completion.choices[0].message.content\n",
    "                \n",
    "                input_words = [prompt['word'], prompt['ending']]\n",
    "                data[\"output\"].append(response_message)\n",
    "                data[\"input\"].append(input_words)\n",
    "                data[\"instruction\"].append(basePromptHindi)\n",
    "                stories_generated += 1\n",
    "                \n",
    "                # Save progress after each story\n",
    "                with open('hindi23nov.json', 'w', encoding='utf-8') as json_file:\n",
    "                    json.dump({\"train\": data}, json_file, ensure_ascii=False, indent=4)\n",
    "                \n",
    "            except Exception as e:\n",
    "                print(f\"Error generating story: {str(e)}\")\n",
    "                time.sleep(30)  # Additional cooldown on error\n",
    "                continue\n",
    "        \n",
    "        # Add a small delay between batches to avoid hitting rate limits\n",
    "        if stories_generated < n:\n",
    "            time.sleep(5)\n",
    "    \n",
    "    print(f\"Successfully generated {stories_generated} stories.\")\n",
    "    return data"
   ]
  },
  {
   "cell_type": "code",
   "execution_count": null,
   "metadata": {},
   "outputs": [],
   "source": [
    "# Generate 1000 stories using exponential backoff\n",
    "if __name__ == \"__main__\":\n",
    "    store_dataset(1000)"
   ]
  },
  {
   "cell_type": "code",
   "execution_count": null,
   "metadata": {},
   "outputs": [],
   "source": [
    "# conventionl method without exponential backoff\n",
    "def store_dataset(n):\n",
    "  data = {\n",
    "    \"output\": [],\n",
    "    \"input\": [],\n",
    "    \"instruction\": []\n",
    "  }\n",
    "  for _ in range(n):\n",
    "    prompt = generatePrompt()\n",
    "    basePromptHindi = prompt['instruction']\n",
    "    \n",
    "    completion = openai.ChatCompletion.create(\n",
    "      model=\"hf:google/gemma-2-27b-it\",\n",
    "      messages=[\n",
    "        {\"role\": \"user\", \"content\": f\"{basePromptHindi}\"}\n",
    "      ],\n",
    "      temperature=0.3,\n",
    "      max_tokens=500,\n",
    "      top_p = 0.9,\n",
    "      frequency_penalty=0.5,\n",
    "      presence_penalty=1\n",
    "    )\n",
    "    response_message = completion.choices[0].message.content\n",
    "    input_words = [prompt['word'],prompt['ending']]\n",
    "    data[\"output\"].append(response_message)\n",
    "    data[\"input\"].append(input_words)\n",
    "    data[\"instruction\"].append(basePromptHindi)\n",
    "    with open('hindi23nov.json', 'w', encoding='utf-8') as json_file:\n",
    "      json.dump({\"train\": data}, json_file, ensure_ascii=False, indent=4)\n",
    "      "
   ]
  },
  {
   "cell_type": "code",
   "execution_count": null,
   "metadata": {},
   "outputs": [],
   "source": [
    "store_dataset(1000)\n"
   ]
  },
  {
   "cell_type": "code",
   "execution_count": null,
   "metadata": {},
   "outputs": [],
   "source": []
  }
 ],
 "metadata": {
  "kernelspec": {
   "display_name": "Python 3",
   "language": "python",
   "name": "python3"
  },
  "language_info": {
   "codemirror_mode": {
    "name": "ipython",
    "version": 3
   },
   "file_extension": ".py",
   "mimetype": "text/x-python",
   "name": "python",
   "nbconvert_exporter": "python",
   "pygments_lexer": "ipython3",
   "version": "3.12.2"
  }
 },
 "nbformat": 4,
 "nbformat_minor": 2
}
