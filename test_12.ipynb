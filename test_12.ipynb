{
 "cells": [
  {
   "cell_type": "markdown",
   "metadata": {
    "id": "GMyTV28WOW-u"
   },
   "source": [
    "Testing 100k Hindi dataset\n",
    "Load the CSV file into the folder where the notebook is located"
   ]
  },
  {
   "cell_type": "code",
   "execution_count": 6,
   "metadata": {
    "colab": {
     "base_uri": "https://localhost:8080/"
    },
    "id": "xi1u6rrDOW-y",
    "outputId": "7f499c25-91c2-4354-c08f-c81a63b426c8"
   },
   "outputs": [
    {
     "name": "stdout",
     "output_type": "stream",
     "text": [
      "fatal: destination path 'nanoGPT' already exists and is not an empty directory.\n"
     ]
    }
   ],
   "source": [
    "# Clone the NanoGPT\n",
    "!git clone https://github.com/karpathy/nanoGPT.git"
   ]
  },
  {
   "cell_type": "code",
   "execution_count": 7,
   "metadata": {
    "colab": {
     "base_uri": "https://localhost:8080/"
    },
    "id": "nXrxkIFmOW-1",
    "outputId": "6f3c98e4-3785-49c1-f7b9-982a1ec5094c"
   },
   "outputs": [
    {
     "name": "stdout",
     "output_type": "stream",
     "text": [
      "Requirement already satisfied: wandb in /Library/Frameworks/Python.framework/Versions/3.12/lib/python3.12/site-packages (0.18.5)\n",
      "Requirement already satisfied: click!=8.0.0,>=7.1 in /Library/Frameworks/Python.framework/Versions/3.12/lib/python3.12/site-packages (from wandb) (8.1.7)\n",
      "Requirement already satisfied: docker-pycreds>=0.4.0 in /Library/Frameworks/Python.framework/Versions/3.12/lib/python3.12/site-packages (from wandb) (0.4.0)\n",
      "Requirement already satisfied: gitpython!=3.1.29,>=1.0.0 in /Library/Frameworks/Python.framework/Versions/3.12/lib/python3.12/site-packages (from wandb) (3.1.43)\n",
      "Requirement already satisfied: platformdirs in /Users/malhar.inamdar/Library/Python/3.12/lib/python/site-packages (from wandb) (4.2.0)\n",
      "Requirement already satisfied: protobuf!=4.21.0,!=5.28.0,<6,>=3.19.0 in /Library/Frameworks/Python.framework/Versions/3.12/lib/python3.12/site-packages (from wandb) (4.25.3)\n",
      "Requirement already satisfied: psutil>=5.0.0 in /Users/malhar.inamdar/Library/Python/3.12/lib/python/site-packages (from wandb) (5.9.8)\n",
      "Requirement already satisfied: pyyaml in /Library/Frameworks/Python.framework/Versions/3.12/lib/python3.12/site-packages (from wandb) (6.0.1)\n",
      "Requirement already satisfied: requests<3,>=2.0.0 in /Library/Frameworks/Python.framework/Versions/3.12/lib/python3.12/site-packages (from wandb) (2.32.3)\n",
      "Requirement already satisfied: sentry-sdk>=2.0.0 in /Library/Frameworks/Python.framework/Versions/3.12/lib/python3.12/site-packages (from wandb) (2.17.0)\n",
      "Requirement already satisfied: setproctitle in /Library/Frameworks/Python.framework/Versions/3.12/lib/python3.12/site-packages (from wandb) (1.3.3)\n",
      "Requirement already satisfied: setuptools in /Library/Frameworks/Python.framework/Versions/3.12/lib/python3.12/site-packages (from wandb) (69.5.1)\n",
      "Requirement already satisfied: six>=1.4.0 in /Users/malhar.inamdar/Library/Python/3.12/lib/python/site-packages (from docker-pycreds>=0.4.0->wandb) (1.16.0)\n",
      "Requirement already satisfied: gitdb<5,>=4.0.1 in /Library/Frameworks/Python.framework/Versions/3.12/lib/python3.12/site-packages (from gitpython!=3.1.29,>=1.0.0->wandb) (4.0.11)\n",
      "Requirement already satisfied: charset-normalizer<4,>=2 in /Library/Frameworks/Python.framework/Versions/3.12/lib/python3.12/site-packages (from requests<3,>=2.0.0->wandb) (3.3.2)\n",
      "Requirement already satisfied: idna<4,>=2.5 in /Library/Frameworks/Python.framework/Versions/3.12/lib/python3.12/site-packages (from requests<3,>=2.0.0->wandb) (3.7)\n",
      "Requirement already satisfied: urllib3<3,>=1.21.1 in /Library/Frameworks/Python.framework/Versions/3.12/lib/python3.12/site-packages (from requests<3,>=2.0.0->wandb) (2.2.1)\n",
      "Requirement already satisfied: certifi>=2017.4.17 in /Library/Frameworks/Python.framework/Versions/3.12/lib/python3.12/site-packages (from requests<3,>=2.0.0->wandb) (2024.2.2)\n",
      "Requirement already satisfied: smmap<6,>=3.0.1 in /Library/Frameworks/Python.framework/Versions/3.12/lib/python3.12/site-packages (from gitdb<5,>=4.0.1->gitpython!=3.1.29,>=1.0.0->wandb) (5.0.1)\n",
      "\n",
      "\u001b[1m[\u001b[0m\u001b[34;49mnotice\u001b[0m\u001b[1;39;49m]\u001b[0m\u001b[39;49m A new release of pip is available: \u001b[0m\u001b[31;49m24.2\u001b[0m\u001b[39;49m -> \u001b[0m\u001b[32;49m24.3.1\u001b[0m\n",
      "\u001b[1m[\u001b[0m\u001b[34;49mnotice\u001b[0m\u001b[1;39;49m]\u001b[0m\u001b[39;49m To update, run: \u001b[0m\u001b[32;49mpip install --upgrade pip\u001b[0m\n"
     ]
    }
   ],
   "source": [
    "!pip install wandb"
   ]
  },
  {
   "cell_type": "code",
   "execution_count": 8,
   "metadata": {
    "id": "-8X6jdabOW-2"
   },
   "outputs": [],
   "source": [
    "import torch\n",
    "import torch.nn as nn\n",
    "import torch.nn.functional as F\n",
    "import numpy as np\n",
    "from tqdm.auto import tqdm\n",
    "from contextlib import nullcontext\n",
    "import nanoGPT.model as GPT\n",
    "import wandb\n",
    "import os"
   ]
  },
  {
   "cell_type": "code",
   "execution_count": 9,
   "metadata": {
    "id": "DV7k7sVQOW-2"
   },
   "outputs": [],
   "source": [
    "# from kaggle_secrets import UserSecretsClient\n",
    "# # Load API keys https://www.kaggle.com/discussions/product-feedback/114053\n",
    "# secret_label = \"WANDB_API_KEY\"\n",
    "my_secret = \"c2e3619f245387906ce0bd58733dc79534a116bc\""
   ]
  },
  {
   "cell_type": "code",
   "execution_count": 10,
   "metadata": {
    "id": "hSzqFTpuOW-3"
   },
   "outputs": [],
   "source": [
    "class GPTConfig:\n",
    "    block_size: int = 256\n",
    "    vocab_size: int = 65400  # Increased to handle the full token range (65398 + some padding)\n",
    "    n_layer: int = 12\n",
    "    n_head: int = 8\n",
    "    n_embd: int = 192\n",
    "    dropout: float = 0.2\n",
    "    bias: bool = True\n",
    "\n",
    "config = GPTConfig"
   ]
  },
  {
   "cell_type": "code",
   "execution_count": 11,
   "metadata": {
    "colab": {
     "base_uri": "https://localhost:8080/"
    },
    "id": "xNR6eoiyOW-4",
    "outputId": "df386a24-c408-4f4a-d0db-92802d93ea80"
   },
   "outputs": [
    {
     "data": {
      "text/plain": [
       "{'block_size': 256,\n",
       " 'vocab_size': 65400,\n",
       " 'n_layer': 12,\n",
       " 'n_head': 8,\n",
       " 'n_embd': 192,\n",
       " 'dropout': 0.2,\n",
       " 'bias': True}"
      ]
     },
     "execution_count": 11,
     "metadata": {},
     "output_type": "execute_result"
    }
   ],
   "source": [
    "wandb_config = {k:v for k,v in vars(config).items() if not callable(getattr(config, k)) and not k.startswith(\"__\")} # Creating Wandb hyperparameters config for tracking experiements\n",
    "wandb_config"
   ]
  },
  {
   "cell_type": "code",
   "execution_count": 12,
   "metadata": {
    "colab": {
     "base_uri": "https://localhost:8080/"
    },
    "id": "-EwY_PqyOW-4",
    "outputId": "abbbbc18-a98d-42b0-9567-e5517554f4a6"
   },
   "outputs": [
    {
     "name": "stderr",
     "output_type": "stream",
     "text": [
      "\u001b[34m\u001b[1mwandb\u001b[0m: Using wandb-core as the SDK backend. Please refer to https://wandb.me/wandb-core for more information.\n",
      "\u001b[34m\u001b[1mwandb\u001b[0m: Currently logged in as: \u001b[33mnisargbhavsar\u001b[0m. Use \u001b[1m`wandb login --relogin`\u001b[0m to force relogin\n",
      "\u001b[34m\u001b[1mwandb\u001b[0m: \u001b[33mWARNING\u001b[0m If you're specifying your api key in code, ensure this code is not shared publicly.\n",
      "\u001b[34m\u001b[1mwandb\u001b[0m: \u001b[33mWARNING\u001b[0m Consider setting the WANDB_API_KEY environment variable, or running `wandb login` from the command line.\n",
      "\u001b[34m\u001b[1mwandb\u001b[0m: Appending key for api.wandb.ai to your netrc file: /Users/malhar.inamdar/.netrc\n"
     ]
    },
    {
     "data": {
      "text/plain": [
       "True"
      ]
     },
     "execution_count": 12,
     "metadata": {},
     "output_type": "execute_result"
    }
   ],
   "source": [
    "wandb.login(key=my_secret)"
   ]
  },
  {
   "cell_type": "markdown",
   "metadata": {
    "id": "U1do-5vNOW-5"
   },
   "source": [
    "                                        Read the Hindi CSV file , create train & validation splits"
   ]
  },
  {
   "cell_type": "code",
   "execution_count": 13,
   "metadata": {
    "colab": {
     "base_uri": "https://localhost:8080/"
    },
    "id": "vcGM7jqYOW-5",
    "outputId": "b6a7ccea-0735-46a0-f8af-797a0822be80"
   },
   "outputs": [
    {
     "name": "stdout",
     "output_type": "stream",
     "text": [
      "Dataset processed from: /Users/malhar.inamdar/Desktop/task/tinystories_hindi_first_100000.csv\n",
      "Total texts: 99984\n",
      "Training texts: 79987\n",
      "Validation texts: 19997\n",
      "Training texts saved to: /Users/malhar.inamdar/Desktop/task/tinystories_hindi_first_100000_train.csv\n",
      "Validation texts saved to: /Users/malhar.inamdar/Desktop/task/tinystories_hindi_first_100000_val.csv\n"
     ]
    }
   ],
   "source": [
    "import os\n",
    "import sys\n",
    "import pandas as pd\n",
    "import numpy as np\n",
    "from sklearn.model_selection import train_test_split\n",
    "\n",
    "def get_script_directory():\n",
    "    \"\"\"\n",
    "    Get the directory of the current script, working across different environments.\n",
    "\n",
    "    Returns:\n",
    "    --------\n",
    "    str: Directory path of the current script or current working directory\n",
    "    \"\"\"\n",
    "    try:\n",
    "        return os.path.dirname(os.path.abspath(__file__))\n",
    "    except NameError:\n",
    "        return os.getcwd()\n",
    "\n",
    "def prepare_hindi_text_dataset(\n",
    "    filename,\n",
    "    text_column_index=0,  # Default to first column\n",
    "    train_size=0.8,\n",
    "    random_state=42,\n",
    "    search_paths=None,\n",
    "    encoding='utf-8'\n",
    "):\n",
    "    \"\"\"\n",
    "    Read a CSV file without headers and create train/validation splits.\n",
    "\n",
    "    Parameters:\n",
    "    -----------\n",
    "    filename : str\n",
    "        Name of the CSV file\n",
    "    text_column_index : int, optional (default=0)\n",
    "        Index of the column containing text data\n",
    "    train_size : float, optional (default=0.8)\n",
    "        Proportion of data to use for training (remaining for validation)\n",
    "    random_state : int, optional (default=42)\n",
    "        Seed for random split reproducibility\n",
    "    search_paths : list, optional\n",
    "        Additional paths to search for the file\n",
    "    encoding : str, optional (default='utf-8')\n",
    "        Encoding of the CSV file\n",
    "\n",
    "    Returns:\n",
    "    --------\n",
    "    tuple: (train_texts, val_texts)\n",
    "        Lists of training and validation texts\n",
    "    \"\"\"\n",
    "    # Add default search paths\n",
    "    if search_paths is None:\n",
    "        search_paths = [\n",
    "            get_script_directory(),\n",
    "            os.getcwd(),\n",
    "            os.path.expanduser('~')\n",
    "        ]\n",
    "\n",
    "    # Try to find the file in the search paths\n",
    "    csv_path = None\n",
    "    for path in search_paths:\n",
    "        potential_path = os.path.join(path, filename)\n",
    "        if os.path.exists(potential_path):\n",
    "            csv_path = potential_path\n",
    "            break\n",
    "\n",
    "    # Raise error if file not found\n",
    "    if csv_path is None:\n",
    "        raise FileNotFoundError(f\"Could not find {filename} in the specified search paths.\")\n",
    "\n",
    "    try:\n",
    "        # Read CSV file without headers\n",
    "        df = pd.read_csv(\n",
    "            csv_path,\n",
    "            encoding=encoding,\n",
    "            header=None  # No header row\n",
    "        )\n",
    "\n",
    "        # Validate text column index\n",
    "        if text_column_index >= len(df.columns):\n",
    "            raise ValueError(f\"Column index {text_column_index} is out of range.\")\n",
    "\n",
    "        # Select the specified column\n",
    "        texts = df[text_column_index].tolist()\n",
    "\n",
    "        # Remove any rows with NaN or empty values\n",
    "        texts = [str(text).strip() for text in texts if pd.notna(text) and str(text).strip()]\n",
    "\n",
    "        # Split into train and validation sets\n",
    "        train_texts, val_texts = train_test_split(\n",
    "            texts,\n",
    "            train_size=train_size,\n",
    "            random_state=random_state\n",
    "        )\n",
    "\n",
    "        print(f\"Dataset processed from: {csv_path}\")\n",
    "        print(f\"Total texts: {len(texts)}\")\n",
    "        print(f\"Training texts: {len(train_texts)}\")\n",
    "        print(f\"Validation texts: {len(val_texts)}\")\n",
    "\n",
    "        return train_texts, val_texts\n",
    "\n",
    "    except Exception as e:\n",
    "        print(f\"Error processing dataset: {e}\")\n",
    "        return None, None\n",
    "\n",
    "def preprocess_text(text):\n",
    "    \"\"\"\n",
    "    Preprocessing function for Hindi text.\n",
    "\n",
    "    Parameters:\n",
    "    -----------\n",
    "    text : str\n",
    "        Input text to preprocess\n",
    "\n",
    "    Returns:\n",
    "    --------\n",
    "    str: Preprocessed text\n",
    "    \"\"\"\n",
    "    # Comprehensive text preprocessing for Hindi\n",
    "    if not isinstance(text, str):\n",
    "        return \"\"\n",
    "\n",
    "    # Remove leading/trailing whitespaces\n",
    "    text = text.strip()\n",
    "\n",
    "    # Optional: Add more preprocessing steps for Hindi text\n",
    "    # - Convert to lowercase\n",
    "    # - Remove extra whitespaces\n",
    "    # - Remove special characters if needed\n",
    "\n",
    "    return text\n",
    "\n",
    "def save_processed_datasets(train_texts, val_texts, original_filename):\n",
    "    \"\"\"\n",
    "    Save processed train and validation texts to CSV files.\n",
    "\n",
    "    Parameters:\n",
    "    -----------\n",
    "    train_texts : list\n",
    "        List of training texts\n",
    "    val_texts : list\n",
    "        List of validation texts\n",
    "    original_filename : str\n",
    "        Original filename to base output filenames on\n",
    "    \"\"\"\n",
    "    # Get the directory to save files\n",
    "    save_dir = get_script_directory()\n",
    "\n",
    "    # Create output filenames based on original filename\n",
    "    base_name = os.path.splitext(original_filename)[0]\n",
    "    train_output = os.path.join(save_dir, f\"{base_name}_train.csv\")\n",
    "    val_output = os.path.join(save_dir, f\"{base_name}_val.csv\")\n",
    "\n",
    "    # Save train texts\n",
    "    pd.DataFrame(train_texts, columns=['text']).to_csv(train_output, index=False, encoding='utf-8')\n",
    "    print(f\"Training texts saved to: {train_output}\")\n",
    "\n",
    "    # Save validation texts\n",
    "    pd.DataFrame(val_texts, columns=['text']).to_csv(val_output, index=False, encoding='utf-8')\n",
    "    print(f\"Validation texts saved to: {val_output}\")\n",
    "\n",
    "def main():\n",
    "    # Specify filename\n",
    "    filename = '/Users/malhar.inamdar/Desktop/task/tinystories_hindi_first_100000.csv'  # Replace with your actual filename\n",
    "\n",
    "    # You can optionally specify additional search paths\n",
    "    search_paths = [\n",
    "        os.getcwd(),  # Current working directory\n",
    "        os.path.expanduser('~/Documents'),  # Example additional path\n",
    "    ]\n",
    "\n",
    "    # Prepare dataset\n",
    "    train_texts, val_texts = prepare_hindi_text_dataset(\n",
    "        filename,\n",
    "        text_column_index=0,  # Use first column, adjust if needed\n",
    "        train_size=0.8,  # 80% train, 20% validation\n",
    "        search_paths=search_paths,  # Optional: additional search paths\n",
    "        encoding='utf-8'  # Specify encoding for Hindi text\n",
    "    )\n",
    "\n",
    "    # Optional: Apply preprocessing\n",
    "    if train_texts:\n",
    "        train_texts = [preprocess_text(text) for text in train_texts]\n",
    "        val_texts = [preprocess_text(text) for text in val_texts]\n",
    "\n",
    "        # Optional: Save processed datasets\n",
    "        save_processed_datasets(train_texts, val_texts, filename)\n",
    "\n",
    "if __name__ == \"__main__\":\n",
    "    main()"
   ]
  },
  {
   "cell_type": "markdown",
   "metadata": {
    "id": "A2R1akCtOW-7"
   },
   "source": [
    "                                                      Toeknize the dataset, Create the binary files for model run"
   ]
  },
  {
   "cell_type": "code",
   "execution_count": 15,
   "metadata": {
    "colab": {
     "base_uri": "https://localhost:8080/",
     "height": 309,
     "referenced_widgets": [
      "e331ffd1870f4cd783c550121d2fd8f4",
      "00c4c17b9c2a44aba123fbc1990dbdf6",
      "e1cb9fd654b24af39efb5ca966cc899d",
      "2e576622c15843b681d0b2ece9e59df8",
      "aed6aa1b5b2b4d8b8bb044f247b5c2b4",
      "a0482b60ad9c489b9669d77a22619106",
      "988e434de15e4a9dbfc84e098db9b6fd",
      "95bd9b75164347f286c0a0fcb46e2338",
      "6d1b2d51747a49ef8418aeead2870a49",
      "1608adce0c5a46c4b79792468e3f752e",
      "c96852b060544250b5f981745e16a8ed",
      "a86180aae66840eab98803c8d700ae0e",
      "beb4e69e8efb42f096c64af772a89d33",
      "a6676f1c07304d8699631a5f9312a736",
      "73a244947f364462ba648439dd20d62d",
      "7bf4e9376c914f9cb525901ca61ff1a6",
      "39732ae7fbb64ada9c507617cc7e2ae8",
      "da8e8b8bfc894b98b11133aaea98cc71",
      "3685092aa2c04c7887f9c4be409f38f6",
      "e9dbbb22cb8d4ed99cc3825b4a47fe94",
      "19f45cdd0e0c4137a0449fe1e990fa69",
      "aaf94ea3be8a4773bbd0e302f14c0879"
     ]
    },
    "id": "qOJdFIzDOW-7",
    "outputId": "cb7cdb06-6507-47fa-d6d2-48dd1961555f"
   },
   "outputs": [
    {
     "name": "stderr",
     "output_type": "stream",
     "text": [
      "A new version of the following files was downloaded from https://huggingface.co/ai4bharat/indictrans2-en-indic-dist-200M:\n",
      "- tokenization_indictrans.py\n",
      ". Make sure to double-check they do not contain any added malicious code. To avoid downloading new versions of the code file, you can pin a revision.\n",
      "A new version of the following files was downloaded from https://huggingface.co/ai4bharat/indictrans2-en-indic-dist-200M:\n",
      "- configuration_indictrans.py\n",
      ". Make sure to double-check they do not contain any added malicious code. To avoid downloading new versions of the code file, you can pin a revision.\n",
      "A new version of the following files was downloaded from https://huggingface.co/ai4bharat/indictrans2-en-indic-dist-200M:\n",
      "- modeling_indictrans.py\n",
      ". Make sure to double-check they do not contain any added malicious code. To avoid downloading new versions of the code file, you can pin a revision.\n",
      "Writing train.bin: 100%|██████████| 1024/1024 [00:01<00:00, 863.64it/s]\n"
     ]
    },
    {
     "name": "stdout",
     "output_type": "stream",
     "text": [
      "Tokenized dataset saved to: train.bin\n",
      "Total tokens: 20475851\n"
     ]
    },
    {
     "name": "stderr",
     "output_type": "stream",
     "text": [
      "Writing val.bin: 100%|██████████| 1024/1024 [00:00<00:00, 3505.69it/s]\n"
     ]
    },
    {
     "name": "stdout",
     "output_type": "stream",
     "text": [
      "Tokenized dataset saved to: val.bin\n",
      "Total tokens: 5119129\n"
     ]
    }
   ],
   "source": [
    "import os\n",
    "import numpy as np\n",
    "import pandas as pd\n",
    "from tqdm import tqdm\n",
    "import torch\n",
    "from IndicTransToolkit import IndicProcessor\n",
    "from transformers import AutoModelForSeq2SeqLM, AutoTokenizer\n",
    "\n",
    "def tokenize_dataset(\n",
    "    csv_file_path,\n",
    "    tokenizer_model=\"ai4bharat/indictrans2-en-indic-dist-200M\",\n",
    "    output_bin_file=None,\n",
    "    num_proc=8\n",
    "):\n",
    "    \"\"\"\n",
    "    Tokenize a CSV dataset using IndicTrans Toolkit and create a binary file for training.\n",
    "\n",
    "    Parameters:\n",
    "    -----------\n",
    "    csv_file_path : str\n",
    "        Path to the CSV file containing texts\n",
    "    tokenizer_model : str, optional\n",
    "        Hugging Face tokenizer model to use (default: IndicTrans model)\n",
    "    output_bin_file : str, optional\n",
    "        Output binary filename (defaults to CSV filename with .bin extension)\n",
    "    num_proc : int, optional\n",
    "        Number of processors to use for tokenization\n",
    "\n",
    "    Returns:\n",
    "    --------\n",
    "    np.memmap: Tokenized dataset as a memory-mapped array\n",
    "    \"\"\"\n",
    "    # Validate file exists\n",
    "    if not os.path.exists(csv_file_path):\n",
    "        raise FileNotFoundError(f\"CSV file not found: {csv_file_path}\")\n",
    "\n",
    "    # Initialize IndicTrans components\n",
    "    ip = IndicProcessor(inference=True)\n",
    "    tokenizer = AutoTokenizer.from_pretrained(tokenizer_model, trust_remote_code=True)\n",
    "    model = AutoModelForSeq2SeqLM.from_pretrained(tokenizer_model, trust_remote_code=True)\n",
    "\n",
    "    # Read CSV file\n",
    "    df = pd.read_csv(csv_file_path)\n",
    "\n",
    "    # Ensure 'text' column exists\n",
    "    if 'text' not in df.columns:\n",
    "        # If no column name, assume first column is text\n",
    "        df.columns = ['text']\n",
    "\n",
    "    # Tokenization function\n",
    "    def process_text(text):\n",
    "        try:\n",
    "            # Preprocess text for IndicTrans\n",
    "            batch = ip.preprocess_batch([str(text)], src_lang=\"hin_Deva\", tgt_lang=\"hin_Deva\")\n",
    "            encoded = tokenizer(batch, padding=\"longest\", truncation=True, max_length=256, return_tensors=\"pt\")\n",
    "            return {\n",
    "                'ids': encoded[\"input_ids\"].squeeze().tolist(),\n",
    "                'len': len(encoded[\"input_ids\"].squeeze())\n",
    "            }\n",
    "        except Exception as e:\n",
    "            print(f\"Tokenization error for text: {text}, Error: {e}\")\n",
    "            return {'ids': [], 'len': 0}\n",
    "\n",
    "    # Tokenize all texts\n",
    "    tokenized_texts = [process_text(text) for text in df['text']]\n",
    "\n",
    "    # Calculate total length and prepare output file\n",
    "    arr_len = np.sum([item['len'] for item in tokenized_texts], dtype=np.uint64)\n",
    "\n",
    "    # Determine appropriate dtype based on tokenizer vocab size\n",
    "    max_token_value = tokenizer.vocab_size\n",
    "    if max_token_value < 2**16:\n",
    "        dtype = np.uint16\n",
    "    elif max_token_value < 2**32:\n",
    "        dtype = np.uint32\n",
    "    else:\n",
    "        dtype = np.uint64\n",
    "\n",
    "    # Generate output filename if not provided\n",
    "    if output_bin_file is None:\n",
    "        output_bin_file = os.path.splitext(csv_file_path)[0] + '.bin'\n",
    "\n",
    "    # Create memory-mapped array\n",
    "    arr = np.memmap(output_bin_file, dtype=dtype, mode='w+', shape=(arr_len,))\n",
    "\n",
    "    # Write tokenized data\n",
    "    idx = 0\n",
    "    total_batches = 1024\n",
    "    for batch_idx in tqdm(range(total_batches), desc=f'Writing {output_bin_file}'):\n",
    "        # Simulate batching\n",
    "        start = (batch_idx * len(tokenized_texts)) // total_batches\n",
    "        end = ((batch_idx + 1) * len(tokenized_texts)) // total_batches\n",
    "\n",
    "        batch = tokenized_texts[start:end]\n",
    "        arr_batch = np.concatenate([item['ids'] for item in batch])\n",
    "\n",
    "        # Write into mmap\n",
    "        arr[idx: idx + len(arr_batch)] = arr_batch\n",
    "        idx += len(arr_batch)\n",
    "\n",
    "    arr.flush()\n",
    "\n",
    "    print(f\"Tokenized dataset saved to: {output_bin_file}\")\n",
    "    print(f\"Total tokens: {arr_len}\")\n",
    "\n",
    "    return arr\n",
    "\n",
    "\n",
    "def main():\n",
    "    # Paths to train and validation CSV files\n",
    "    train_csv = '/Users/malhar.inamdar/Desktop/task/tinystories_hindi_first_100000_train.csv'\n",
    "    val_csv = '/Users/malhar.inamdar/Desktop/task/tinystories_hindi_first_100000_val.csv'\n",
    "\n",
    "    # Tokenize train dataset\n",
    "    train_tokens = tokenize_dataset(\n",
    "        train_csv,\n",
    "        tokenizer_model=\"ai4bharat/indictrans2-en-indic-dist-200M\",\n",
    "        output_bin_file='train.bin'\n",
    "    )\n",
    "\n",
    "    # Tokenize validation dataset\n",
    "    val_tokens = tokenize_dataset(\n",
    "        val_csv,\n",
    "        tokenizer_model=\"ai4bharat/indictrans2-en-indic-dist-200M\",\n",
    "        output_bin_file='val.bin'\n",
    "    )\n",
    "\n",
    "\n",
    "if __name__ == \"__main__\":\n",
    "    main()\n"
   ]
  },
  {
   "cell_type": "markdown",
   "metadata": {
    "id": "GvkP7tQ1OW-9"
   },
   "source": [
    "                                                                    Check the tokenizer, bin files - Troubleshooting part of code"
   ]
  },
  {
   "cell_type": "code",
   "execution_count": 17,
   "metadata": {
    "colab": {
     "base_uri": "https://localhost:8080/"
    },
    "id": "I0PHK3GoOW-9",
    "outputId": "4978e9d6-79b3-4804-8601-e3258af18f2f"
   },
   "outputs": [
    {
     "name": "stdout",
     "output_type": "stream",
     "text": [
      "\n",
      "============================================================\n",
      "Binary File Analysis: train.bin\n",
      "--------------------------------------------------\n",
      "Detected Data Type: <class 'numpy.uint16'>\n",
      "Total Number of Tokens: 20475851\n",
      "Vocabulary Size: 32322\n",
      "Token Range: 2 - 30659\n",
      "\n",
      "Token Samples:\n",
      "Raw Token IDs: [16070  6764 14695 18656 26047     7   103 13133 16070 25485]\n",
      "\n",
      "Detokenized Sample:   ंायोथ, -तंध\n",
      "\n",
      "Memory Usage: 39.05 MB\n",
      "\n",
      "============================================================\n",
      "Binary File Analysis: val.bin\n",
      "--------------------------------------------------\n",
      "Detected Data Type: <class 'numpy.uint16'>\n",
      "Total Number of Tokens: 5119129\n",
      "Vocabulary Size: 32322\n",
      "Token Range: 2 - 30659\n",
      "\n",
      "Token Samples:\n",
      "Raw Token IDs: [  277   277 10017   277   277 14376   277   277 26474 26308]\n",
      "\n",
      "Detokenized Sample:   क  ी  ।ख\n",
      "\n",
      "Memory Usage: 9.76 MB\n"
     ]
    }
   ],
   "source": [
    "import os\n",
    "import numpy as np\n",
    "from transformers import AutoTokenizer\n",
    "from IndicTransToolkit import IndicProcessor\n",
    "from transformers import AutoModelForSeq2SeqLM, AutoTokenizer\n",
    "\n",
    "def inspect_bin_file(\n",
    "    bin_file_path,\n",
    "    tokenizer_model=\"ai4bharat/indictrans2-en-indic-dist-200M\",\n",
    "    num_samples=10\n",
    "):\n",
    "    \"\"\"\n",
    "    Inspect a binary file created from tokenization.\n",
    "\n",
    "    Parameters:\n",
    "    -----------\n",
    "    bin_file_path : str\n",
    "        Path to the .bin file\n",
    "    tokenizer_model : str, optional\n",
    "        Tokenizer model used for original tokenization\n",
    "    num_samples : int, optional\n",
    "        Number of token samples to display\n",
    "    \"\"\"\n",
    "    # Validate file exists\n",
    "    if not os.path.exists(bin_file_path):\n",
    "        raise FileNotFoundError(f\"Binary file not found: {bin_file_path}\")\n",
    "\n",
    "    # Initialize tokenizer for potential detokenization\n",
    "    tokenizer = AutoTokenizer.from_pretrained(tokenizer_model, trust_remote_code=True)\n",
    "\n",
    "    # Detect appropriate dtype based on file size and content\n",
    "    def detect_dtype(file_path):\n",
    "        file_size = os.path.getsize(file_path)\n",
    "\n",
    "        # Try different dtypes\n",
    "        dtype_options = [\n",
    "            (np.uint16, 2),\n",
    "            (np.uint32, 4),\n",
    "            (np.uint64, 8)\n",
    "        ]\n",
    "\n",
    "        for dtype, bytes_per_element in dtype_options:\n",
    "            # Check if file size is divisible by dtype size\n",
    "            if file_size % bytes_per_element == 0:\n",
    "                # Load a small sample to check\n",
    "                try:\n",
    "                    sample = np.memmap(file_path, dtype=dtype, mode='r', shape=(10,))\n",
    "                    # Check if sample values are within reasonable token range\n",
    "                    if sample.max() < tokenizer.vocab_size:\n",
    "                        return dtype\n",
    "                except:\n",
    "                    continue\n",
    "\n",
    "        # Fallback\n",
    "        return np.uint32\n",
    "\n",
    "    # Detect dtype\n",
    "    detected_dtype = detect_dtype(bin_file_path)\n",
    "\n",
    "    # Load the entire file\n",
    "    tokens = np.memmap(bin_file_path, dtype=detected_dtype, mode='r')\n",
    "\n",
    "    # Print file information\n",
    "    print(f\"Binary File Analysis: {bin_file_path}\")\n",
    "    print(\"-\" * 50)\n",
    "    print(f\"Detected Data Type: {detected_dtype}\")\n",
    "    print(f\"Total Number of Tokens: {len(tokens)}\")\n",
    "    print(f\"Vocabulary Size: {tokenizer.vocab_size}\")\n",
    "\n",
    "    # Validate token range\n",
    "    max_token = tokens.max()\n",
    "    min_token = tokens.min()\n",
    "    print(f\"Token Range: {min_token} - {max_token}\")\n",
    "\n",
    "    # Sample tokens\n",
    "    print(\"\\nToken Samples:\")\n",
    "    sample_indices = np.random.choice(len(tokens), min(num_samples, len(tokens)), replace=False)\n",
    "    sample_tokens = tokens[sample_indices]\n",
    "\n",
    "    print(\"Raw Token IDs:\", sample_tokens)\n",
    "\n",
    "    # Optional: Detokenize sample tokens\n",
    "    try:\n",
    "        detokenized_samples = tokenizer.decode(sample_tokens.tolist())\n",
    "        print(\"\\nDetokenized Sample:\", detokenized_samples)\n",
    "    except Exception as e:\n",
    "        print(\"Could not detokenize samples:\", str(e))\n",
    "\n",
    "    # Memory usage\n",
    "    memory_usage = tokens.nbytes / (1024 * 1024)  # Convert to MB\n",
    "    print(f\"\\nMemory Usage: {memory_usage:.2f} MB\")\n",
    "\n",
    "def main():\n",
    "    # List of bin files to inspect\n",
    "    bin_files = ['train.bin', 'val.bin']\n",
    "\n",
    "    for bin_file in bin_files:\n",
    "        if os.path.exists(bin_file):\n",
    "            print(\"\\n\" + \"=\"*60)\n",
    "            inspect_bin_file(bin_file)\n",
    "\n",
    "if __name__ == \"__main__\":\n",
    "    main()"
   ]
  },
  {
   "cell_type": "markdown",
   "metadata": {
    "id": "VMoAKXT1OW--"
   },
   "source": [
    "                                                                                                       File Processing for Training"
   ]
  },
  {
   "cell_type": "code",
   "execution_count": 18,
   "metadata": {
    "id": "oB48zRC0OW--"
   },
   "outputs": [],
   "source": [
    "def process_data_files():\n",
    "    # Read and process training data\n",
    "    train_data = np.memmap('train.bin', dtype=np.uint16, mode='r')\n",
    "    val_data = np.memmap('val.bin', dtype=np.uint16, mode='r')\n",
    "\n",
    "    # Verify token ranges\n",
    "    max_token = max(train_data.max(), val_data.max())\n",
    "    min_token = min(train_data.min(), val_data.min())\n",
    "\n",
    "    print(f\"Token range in data: {min_token} - {max_token}\")\n",
    "    print(f\"Total tokens in training: {len(train_data)}\")\n",
    "    print(f\"Total tokens in validation: {len(val_data)}\")\n",
    "\n",
    "    return max_token + 1  # +1 because token indices are 0-based\n",
    "\n",
    "def get_batch(split, block_size, batch_size, device):\n",
    "    # Load appropriate data file\n",
    "    data = np.memmap(f\"{split}.bin\", dtype=np.uint16, mode='r')\n",
    "\n",
    "    # Generate random starting indices\n",
    "    ix = torch.randint(len(data) - block_size, (batch_size,))\n",
    "\n",
    "    # Extract sequences\n",
    "    x = torch.stack([torch.from_numpy(data[i:i+block_size].astype(np.int64)) for i in ix])\n",
    "    y = torch.stack([torch.from_numpy(data[i+1:i+1+block_size].astype(np.int64)) for i in ix])\n",
    "\n",
    "    # Move to device\n",
    "    if device == 'cuda':\n",
    "        x, y = x.pin_memory().to(device, non_blocking=True), y.pin_memory().to(device, non_blocking=True)\n",
    "    else:\n",
    "        x, y = x.to(device), y.to(device)\n",
    "\n",
    "    return x, y\n",
    "\n",
    "# Function to verify configuration\n",
    "def verify_config(config, actual_vocab_size):\n",
    "    if config.vocab_size < actual_vocab_size:\n",
    "        raise ValueError(f\"Config vocab_size ({config.vocab_size}) is smaller than actual vocab size ({actual_vocab_size})\")\n",
    "    return True"
   ]
  },
  {
   "cell_type": "code",
   "execution_count": 19,
   "metadata": {
    "id": "doPr0kPvOW-_",
    "outputId": "990d7911-f0e8-48ef-f38e-f16670a42c49"
   },
   "outputs": [
    {
     "name": "stdout",
     "output_type": "stream",
     "text": [
      "Token range in data: 2 - 30659\n",
      "Total tokens in training: 20475851\n",
      "Total tokens in validation: 5119129\n",
      "number of parameters: 17.90M\n"
     ]
    }
   ],
   "source": [
    "# Verify data and configuration\n",
    "actual_vocab_size = process_data_files()\n",
    "config = GPTConfig()\n",
    "verify_config(config, actual_vocab_size)\n",
    "\n",
    "# Initialize model with new config\n",
    "nanoGPT = GPT.GPT(config)"
   ]
  },
  {
   "cell_type": "markdown",
   "metadata": {
    "id": "Vwtq4ss7OW-_"
   },
   "source": [
    "                                                        Prepare for training"
   ]
  },
  {
   "cell_type": "code",
   "execution_count": 20,
   "metadata": {
    "id": "QUgujgRCOW_A"
   },
   "outputs": [],
   "source": [
    "def get_batch(split):\n",
    "    \"\"\"Get a batch of data for training or validation.\"\"\"\n",
    "    if split == 'train':\n",
    "        data = np.memmap('train.bin', dtype=np.uint16, mode='r')\n",
    "    else:\n",
    "        data = np.memmap('val.bin', dtype=np.uint16, mode='r')\n",
    "\n",
    "    ix = torch.randint(len(data) - block_size, (batch_size,))\n",
    "    x = torch.stack([torch.from_numpy(data[i:i+block_size].astype(np.int64)) for i in ix])\n",
    "    y = torch.stack([torch.from_numpy(data[i+1:i+1+block_size].astype(np.int64)) for i in ix])\n",
    "\n",
    "    if device_type == 'cuda':\n",
    "        x, y = x.pin_memory().to(device, non_blocking=True), y.pin_memory().to(device, non_blocking=True)\n",
    "    else:\n",
    "        x, y = x.to(device), y.to(device)\n",
    "    return x, y\n",
    "\n",
    "def estimate_loss(model):\n",
    "    out = {}\n",
    "    model.eval()\n",
    "    with torch.inference_mode():\n",
    "        for split in ['train', 'val']:\n",
    "            losses = torch.zeros(eval_iters)\n",
    "            for k in range(eval_iters):\n",
    "                X, Y = get_batch(split)\n",
    "                with ctx:\n",
    "                    logits, loss = model(X, Y)\n",
    "                losses[k] = loss.item()\n",
    "            out[split] = losses.mean()\n",
    "    model.train()\n",
    "    return out"
   ]
  },
  {
   "cell_type": "markdown",
   "metadata": {
    "id": "D9qBKR8nOW_A"
   },
   "source": [
    "                                                         Training Config"
   ]
  },
  {
   "cell_type": "code",
   "execution_count": 21,
   "metadata": {
    "colab": {
     "base_uri": "https://localhost:8080/"
    },
    "id": "fppiSBEjOW_A",
    "outputId": "903ce2aa-6dca-41b6-fe84-80cb0c9191eb"
   },
   "outputs": [
    {
     "data": {
      "text/plain": [
       "<torch._C.Generator at 0x1665c3810>"
      ]
     },
     "execution_count": 21,
     "metadata": {},
     "output_type": "execute_result"
    }
   ],
   "source": [
    "learning_rate = 5e-5  # Slower learning rate for stability with large models\n",
    "max_iters = 80000  # Increase iterations for sufficient training\n",
    "warmup_steps = 2000  # More gradual warmup\n",
    "min_lr = 1e-5  # Lower minimum learning rate for fine-tuning\n",
    "eval_iters = 1000  # Evaluate less frequently to save compute\n",
    "\n",
    "batch_size = 8  # Smaller batch size due to model size and memory constraints\n",
    "block_size = 256  # Increased for capturing longer contexts\n",
    "gradient_accumulation_steps = 64  # Compensate for reduced batch size\n",
    "\n",
    "\n",
    "device =  \"cuda\" if torch.cuda.is_available() else \"cpu\"\n",
    "device_type = 'cuda' if 'cuda' in device else 'cpu' # for later use in torch.autocast\n",
    "# note: float16 data type will automatically use a GradScaler\n",
    "\n",
    "# How to use autocast https://wandb.ai/wandb_fc/tips/reports/How-To-Use-Autocast-in-PyTorch--VmlldzoyMTk4NTky\n",
    "dtype = 'bfloat16' if torch.cuda.is_available() and torch.cuda.is_bf16_supported() else 'float16' # 'float32', 'bfloat16', or 'float16', the latter will auto implement a GradScaler\n",
    "ptdtype = {'float32': torch.float32, 'bfloat16': torch.bfloat16, 'float16': torch.float16}[dtype]\n",
    "\n",
    "ctx = nullcontext() if device_type == 'cpu' else torch.amp.autocast(device_type=device_type, dtype=ptdtype)\n",
    "\n",
    "torch.set_default_device(device)\n",
    "torch.manual_seed(42)"
   ]
  },
  {
   "cell_type": "code",
   "execution_count": 22,
   "metadata": {
    "colab": {
     "base_uri": "https://localhost:8080/"
    },
    "id": "kxNqarUvOW_B",
    "outputId": "265feb9a-a83c-4938-da24-3206cdd8b29a"
   },
   "outputs": [
    {
     "name": "stdout",
     "output_type": "stream",
     "text": [
      "number of parameters: 17.90M\n"
     ]
    },
    {
     "name": "stderr",
     "output_type": "stream",
     "text": [
      "/Library/Frameworks/Python.framework/Versions/3.12/lib/python3.12/site-packages/torch/amp/grad_scaler.py:131: UserWarning: torch.cuda.amp.GradScaler is enabled, but CUDA is not available.  Disabling.\n",
      "  warnings.warn(\n"
     ]
    }
   ],
   "source": [
    "from torch.optim.lr_scheduler import LinearLR,SequentialLR, CosineAnnealingLR\n",
    "\n",
    "nanoGPT = GPT.GPT(config)\n",
    "##PUT IN WEIGHT DECAY, CHANGED BETA2 to 0.95\n",
    "optimizer =  torch.optim.AdamW(nanoGPT.parameters(), lr=learning_rate, betas=(0.9, 0.95), weight_decay=0.1, eps=1e-9) #weight decay for regularization\n",
    "\n",
    "scheduler_warmup = LinearLR(optimizer, total_iters = warmup_steps) #Implement linear warmup\n",
    "scheduler_decay = CosineAnnealingLR(optimizer,T_max = max_iters - warmup_steps, eta_min = min_lr) #Implement lr decay\n",
    "scheduler = SequentialLR(optimizer, schedulers=[scheduler_warmup, scheduler_decay], milestones=[warmup_steps]) #Switching from warmup to decay\n",
    "\n",
    "# https://stackoverflow.com/questions/72534859/is-gradscaler-necessary-with-mixed-precision-training-with-pytorch\n",
    "scaler = torch.cuda.amp.GradScaler(enabled=(dtype == 'float16'))"
   ]
  },
  {
   "cell_type": "markdown",
   "metadata": {
    "id": "hOX_dQssOW_B"
   },
   "source": [
    "                                                   RUN THE TRAINING"
   ]
  },
  {
   "cell_type": "code",
   "execution_count": 23,
   "metadata": {
    "colab": {
     "base_uri": "https://localhost:8080/",
     "height": 1000
    },
    "collapsed": true,
    "id": "dGefNxUxOW_C",
    "outputId": "89b87374-cd3c-4b99-e1e8-18f813000ffc"
   },
   "outputs": [
    {
     "data": {
      "text/html": [
       "Tracking run with wandb version 0.18.5"
      ],
      "text/plain": [
       "<IPython.core.display.HTML object>"
      ]
     },
     "metadata": {},
     "output_type": "display_data"
    },
    {
     "data": {
      "text/html": [
       "Run data is saved locally in <code>/Users/malhar.inamdar/Downloads/wandb/run-20241125_014442-z09dzuyl</code>"
      ],
      "text/plain": [
       "<IPython.core.display.HTML object>"
      ]
     },
     "metadata": {},
     "output_type": "display_data"
    },
    {
     "data": {
      "text/html": [
       "Syncing run <strong><a href='https://wandb.ai/nisargbhavsar/nanogpt-tinystories/runs/z09dzuyl' target=\"_blank\">nanoGPT-sml-longer</a></strong> to <a href='https://wandb.ai/nisargbhavsar/nanogpt-tinystories' target=\"_blank\">Weights & Biases</a> (<a href='https://wandb.me/run' target=\"_blank\">docs</a>)<br/>"
      ],
      "text/plain": [
       "<IPython.core.display.HTML object>"
      ]
     },
     "metadata": {},
     "output_type": "display_data"
    },
    {
     "data": {
      "text/html": [
       " View project at <a href='https://wandb.ai/nisargbhavsar/nanogpt-tinystories' target=\"_blank\">https://wandb.ai/nisargbhavsar/nanogpt-tinystories</a>"
      ],
      "text/plain": [
       "<IPython.core.display.HTML object>"
      ]
     },
     "metadata": {},
     "output_type": "display_data"
    },
    {
     "data": {
      "text/html": [
       " View run at <a href='https://wandb.ai/nisargbhavsar/nanogpt-tinystories/runs/z09dzuyl' target=\"_blank\">https://wandb.ai/nisargbhavsar/nanogpt-tinystories/runs/z09dzuyl</a>"
      ],
      "text/plain": [
       "<IPython.core.display.HTML object>"
      ]
     },
     "metadata": {},
     "output_type": "display_data"
    },
    {
     "name": "stderr",
     "output_type": "stream",
     "text": [
      "  0%|          | 0/80000 [00:00<?, ?it/s]/Library/Frameworks/Python.framework/Versions/3.12/lib/python3.12/site-packages/torch/optim/lr_scheduler.py:143: UserWarning: Detected call of `lr_scheduler.step()` before `optimizer.step()`. In PyTorch 1.1.0 and later, you should call them in the opposite order: `optimizer.step()` before `lr_scheduler.step()`.  Failure to do this will result in PyTorch skipping the first value of the learning rate schedule. See more details at https://pytorch.org/docs/stable/optim.html#how-to-adjust-learning-rate\n",
      "  warnings.warn(\"Detected call of `lr_scheduler.step()` before `optimizer.step()`. \"\n",
      "  0%|          | 90/80000 [04:52<72:13:51,  3.25s/it]\n"
     ]
    },
    {
     "ename": "KeyboardInterrupt",
     "evalue": "",
     "output_type": "error",
     "traceback": [
      "\u001b[0;31m---------------------------------------------------------------------------\u001b[0m",
      "\u001b[0;31mKeyboardInterrupt\u001b[0m                         Traceback (most recent call last)",
      "Cell \u001b[0;32mIn[23], line 31\u001b[0m\n\u001b[1;32m     29\u001b[0m     logits, loss \u001b[38;5;241m=\u001b[39m nanoGPT(X, y)\n\u001b[1;32m     30\u001b[0m     loss \u001b[38;5;241m=\u001b[39m loss \u001b[38;5;241m/\u001b[39m gradient_accumulation_steps \u001b[38;5;66;03m# scale the loss to account for gradient accumulation\u001b[39;00m\n\u001b[0;32m---> 31\u001b[0m     \u001b[43mscaler\u001b[49m\u001b[38;5;241;43m.\u001b[39;49m\u001b[43mscale\u001b[49m\u001b[43m(\u001b[49m\u001b[43mloss\u001b[49m\u001b[43m)\u001b[49m\u001b[38;5;241;43m.\u001b[39;49m\u001b[43mbackward\u001b[49m\u001b[43m(\u001b[49m\u001b[43m)\u001b[49m\n\u001b[1;32m     33\u001b[0m \u001b[38;5;28;01mif\u001b[39;00m ((epoch \u001b[38;5;241m+\u001b[39m \u001b[38;5;241m1\u001b[39m) \u001b[38;5;241m%\u001b[39m gradient_accumulation_steps \u001b[38;5;241m==\u001b[39m \u001b[38;5;241m0\u001b[39m) \u001b[38;5;129;01mor\u001b[39;00m (epoch \u001b[38;5;241m+\u001b[39m \u001b[38;5;241m1\u001b[39m \u001b[38;5;241m==\u001b[39m max_iters):\n\u001b[1;32m     34\u001b[0m     torch\u001b[38;5;241m.\u001b[39mnn\u001b[38;5;241m.\u001b[39mutils\u001b[38;5;241m.\u001b[39mclip_grad_norm_(nanoGPT\u001b[38;5;241m.\u001b[39mparameters(), max_norm\u001b[38;5;241m=\u001b[39m\u001b[38;5;241m0.5\u001b[39m)\n",
      "File \u001b[0;32m/Library/Frameworks/Python.framework/Versions/3.12/lib/python3.12/site-packages/torch/_tensor.py:516\u001b[0m, in \u001b[0;36mTensor.backward\u001b[0;34m(self, gradient, retain_graph, create_graph, inputs)\u001b[0m\n\u001b[1;32m    469\u001b[0m \u001b[38;5;250m\u001b[39m\u001b[38;5;124mr\u001b[39m\u001b[38;5;124;03m\"\"\"Computes the gradient of current tensor wrt graph leaves.\u001b[39;00m\n\u001b[1;32m    470\u001b[0m \n\u001b[1;32m    471\u001b[0m \u001b[38;5;124;03mThe graph is differentiated using the chain rule. If the tensor is\u001b[39;00m\n\u001b[0;32m   (...)\u001b[0m\n\u001b[1;32m    513\u001b[0m \u001b[38;5;124;03m        used to compute the attr::tensors.\u001b[39;00m\n\u001b[1;32m    514\u001b[0m \u001b[38;5;124;03m\"\"\"\u001b[39;00m\n\u001b[1;32m    515\u001b[0m \u001b[38;5;28;01mif\u001b[39;00m has_torch_function_unary(\u001b[38;5;28mself\u001b[39m):\n\u001b[0;32m--> 516\u001b[0m     \u001b[38;5;28;01mreturn\u001b[39;00m \u001b[43mhandle_torch_function\u001b[49m\u001b[43m(\u001b[49m\n\u001b[1;32m    517\u001b[0m \u001b[43m        \u001b[49m\u001b[43mTensor\u001b[49m\u001b[38;5;241;43m.\u001b[39;49m\u001b[43mbackward\u001b[49m\u001b[43m,\u001b[49m\n\u001b[1;32m    518\u001b[0m \u001b[43m        \u001b[49m\u001b[43m(\u001b[49m\u001b[38;5;28;43mself\u001b[39;49m\u001b[43m,\u001b[49m\u001b[43m)\u001b[49m\u001b[43m,\u001b[49m\n\u001b[1;32m    519\u001b[0m \u001b[43m        \u001b[49m\u001b[38;5;28;43mself\u001b[39;49m\u001b[43m,\u001b[49m\n\u001b[1;32m    520\u001b[0m \u001b[43m        \u001b[49m\u001b[43mgradient\u001b[49m\u001b[38;5;241;43m=\u001b[39;49m\u001b[43mgradient\u001b[49m\u001b[43m,\u001b[49m\n\u001b[1;32m    521\u001b[0m \u001b[43m        \u001b[49m\u001b[43mretain_graph\u001b[49m\u001b[38;5;241;43m=\u001b[39;49m\u001b[43mretain_graph\u001b[49m\u001b[43m,\u001b[49m\n\u001b[1;32m    522\u001b[0m \u001b[43m        \u001b[49m\u001b[43mcreate_graph\u001b[49m\u001b[38;5;241;43m=\u001b[39;49m\u001b[43mcreate_graph\u001b[49m\u001b[43m,\u001b[49m\n\u001b[1;32m    523\u001b[0m \u001b[43m        \u001b[49m\u001b[43minputs\u001b[49m\u001b[38;5;241;43m=\u001b[39;49m\u001b[43minputs\u001b[49m\u001b[43m,\u001b[49m\n\u001b[1;32m    524\u001b[0m \u001b[43m    \u001b[49m\u001b[43m)\u001b[49m\n\u001b[1;32m    525\u001b[0m torch\u001b[38;5;241m.\u001b[39mautograd\u001b[38;5;241m.\u001b[39mbackward(\n\u001b[1;32m    526\u001b[0m     \u001b[38;5;28mself\u001b[39m, gradient, retain_graph, create_graph, inputs\u001b[38;5;241m=\u001b[39minputs\n\u001b[1;32m    527\u001b[0m )\n",
      "File \u001b[0;32m/Library/Frameworks/Python.framework/Versions/3.12/lib/python3.12/site-packages/torch/overrides.py:1619\u001b[0m, in \u001b[0;36mhandle_torch_function\u001b[0;34m(public_api, relevant_args, *args, **kwargs)\u001b[0m\n\u001b[1;32m   1615\u001b[0m \u001b[38;5;28;01mif\u001b[39;00m _is_torch_function_mode_enabled():\n\u001b[1;32m   1616\u001b[0m     \u001b[38;5;66;03m# if we're here, the mode must be set to a TorchFunctionStackMode\u001b[39;00m\n\u001b[1;32m   1617\u001b[0m     \u001b[38;5;66;03m# this unsets it and calls directly into TorchFunctionStackMode's torch function\u001b[39;00m\n\u001b[1;32m   1618\u001b[0m     \u001b[38;5;28;01mwith\u001b[39;00m _pop_mode_temporarily() \u001b[38;5;28;01mas\u001b[39;00m mode:\n\u001b[0;32m-> 1619\u001b[0m         result \u001b[38;5;241m=\u001b[39m \u001b[43mmode\u001b[49m\u001b[38;5;241;43m.\u001b[39;49m\u001b[43m__torch_function__\u001b[49m\u001b[43m(\u001b[49m\u001b[43mpublic_api\u001b[49m\u001b[43m,\u001b[49m\u001b[43m \u001b[49m\u001b[43mtypes\u001b[49m\u001b[43m,\u001b[49m\u001b[43m \u001b[49m\u001b[43margs\u001b[49m\u001b[43m,\u001b[49m\u001b[43m \u001b[49m\u001b[43mkwargs\u001b[49m\u001b[43m)\u001b[49m\n\u001b[1;32m   1620\u001b[0m     \u001b[38;5;28;01mif\u001b[39;00m result \u001b[38;5;129;01mis\u001b[39;00m \u001b[38;5;129;01mnot\u001b[39;00m \u001b[38;5;28mNotImplemented\u001b[39m:\n\u001b[1;32m   1621\u001b[0m         \u001b[38;5;28;01mreturn\u001b[39;00m result\n",
      "File \u001b[0;32m/Library/Frameworks/Python.framework/Versions/3.12/lib/python3.12/site-packages/torch/utils/_device.py:78\u001b[0m, in \u001b[0;36mDeviceContext.__torch_function__\u001b[0;34m(self, func, types, args, kwargs)\u001b[0m\n\u001b[1;32m     76\u001b[0m \u001b[38;5;28;01mif\u001b[39;00m func \u001b[38;5;129;01min\u001b[39;00m _device_constructors() \u001b[38;5;129;01mand\u001b[39;00m kwargs\u001b[38;5;241m.\u001b[39mget(\u001b[38;5;124m'\u001b[39m\u001b[38;5;124mdevice\u001b[39m\u001b[38;5;124m'\u001b[39m) \u001b[38;5;129;01mis\u001b[39;00m \u001b[38;5;28;01mNone\u001b[39;00m:\n\u001b[1;32m     77\u001b[0m     kwargs[\u001b[38;5;124m'\u001b[39m\u001b[38;5;124mdevice\u001b[39m\u001b[38;5;124m'\u001b[39m] \u001b[38;5;241m=\u001b[39m \u001b[38;5;28mself\u001b[39m\u001b[38;5;241m.\u001b[39mdevice\n\u001b[0;32m---> 78\u001b[0m \u001b[38;5;28;01mreturn\u001b[39;00m \u001b[43mfunc\u001b[49m\u001b[43m(\u001b[49m\u001b[38;5;241;43m*\u001b[39;49m\u001b[43margs\u001b[49m\u001b[43m,\u001b[49m\u001b[43m \u001b[49m\u001b[38;5;241;43m*\u001b[39;49m\u001b[38;5;241;43m*\u001b[39;49m\u001b[43mkwargs\u001b[49m\u001b[43m)\u001b[49m\n",
      "File \u001b[0;32m/Library/Frameworks/Python.framework/Versions/3.12/lib/python3.12/site-packages/torch/_tensor.py:525\u001b[0m, in \u001b[0;36mTensor.backward\u001b[0;34m(self, gradient, retain_graph, create_graph, inputs)\u001b[0m\n\u001b[1;32m    515\u001b[0m \u001b[38;5;28;01mif\u001b[39;00m has_torch_function_unary(\u001b[38;5;28mself\u001b[39m):\n\u001b[1;32m    516\u001b[0m     \u001b[38;5;28;01mreturn\u001b[39;00m handle_torch_function(\n\u001b[1;32m    517\u001b[0m         Tensor\u001b[38;5;241m.\u001b[39mbackward,\n\u001b[1;32m    518\u001b[0m         (\u001b[38;5;28mself\u001b[39m,),\n\u001b[0;32m   (...)\u001b[0m\n\u001b[1;32m    523\u001b[0m         inputs\u001b[38;5;241m=\u001b[39minputs,\n\u001b[1;32m    524\u001b[0m     )\n\u001b[0;32m--> 525\u001b[0m \u001b[43mtorch\u001b[49m\u001b[38;5;241;43m.\u001b[39;49m\u001b[43mautograd\u001b[49m\u001b[38;5;241;43m.\u001b[39;49m\u001b[43mbackward\u001b[49m\u001b[43m(\u001b[49m\n\u001b[1;32m    526\u001b[0m \u001b[43m    \u001b[49m\u001b[38;5;28;43mself\u001b[39;49m\u001b[43m,\u001b[49m\u001b[43m \u001b[49m\u001b[43mgradient\u001b[49m\u001b[43m,\u001b[49m\u001b[43m \u001b[49m\u001b[43mretain_graph\u001b[49m\u001b[43m,\u001b[49m\u001b[43m \u001b[49m\u001b[43mcreate_graph\u001b[49m\u001b[43m,\u001b[49m\u001b[43m \u001b[49m\u001b[43minputs\u001b[49m\u001b[38;5;241;43m=\u001b[39;49m\u001b[43minputs\u001b[49m\n\u001b[1;32m    527\u001b[0m \u001b[43m\u001b[49m\u001b[43m)\u001b[49m\n",
      "File \u001b[0;32m/Library/Frameworks/Python.framework/Versions/3.12/lib/python3.12/site-packages/torch/autograd/__init__.py:267\u001b[0m, in \u001b[0;36mbackward\u001b[0;34m(tensors, grad_tensors, retain_graph, create_graph, grad_variables, inputs)\u001b[0m\n\u001b[1;32m    262\u001b[0m     retain_graph \u001b[38;5;241m=\u001b[39m create_graph\n\u001b[1;32m    264\u001b[0m \u001b[38;5;66;03m# The reason we repeat the same comment below is that\u001b[39;00m\n\u001b[1;32m    265\u001b[0m \u001b[38;5;66;03m# some Python versions print out the first line of a multi-line function\u001b[39;00m\n\u001b[1;32m    266\u001b[0m \u001b[38;5;66;03m# calls in the traceback and some print out the last line\u001b[39;00m\n\u001b[0;32m--> 267\u001b[0m \u001b[43m_engine_run_backward\u001b[49m\u001b[43m(\u001b[49m\n\u001b[1;32m    268\u001b[0m \u001b[43m    \u001b[49m\u001b[43mtensors\u001b[49m\u001b[43m,\u001b[49m\n\u001b[1;32m    269\u001b[0m \u001b[43m    \u001b[49m\u001b[43mgrad_tensors_\u001b[49m\u001b[43m,\u001b[49m\n\u001b[1;32m    270\u001b[0m \u001b[43m    \u001b[49m\u001b[43mretain_graph\u001b[49m\u001b[43m,\u001b[49m\n\u001b[1;32m    271\u001b[0m \u001b[43m    \u001b[49m\u001b[43mcreate_graph\u001b[49m\u001b[43m,\u001b[49m\n\u001b[1;32m    272\u001b[0m \u001b[43m    \u001b[49m\u001b[43minputs\u001b[49m\u001b[43m,\u001b[49m\n\u001b[1;32m    273\u001b[0m \u001b[43m    \u001b[49m\u001b[43mallow_unreachable\u001b[49m\u001b[38;5;241;43m=\u001b[39;49m\u001b[38;5;28;43;01mTrue\u001b[39;49;00m\u001b[43m,\u001b[49m\n\u001b[1;32m    274\u001b[0m \u001b[43m    \u001b[49m\u001b[43maccumulate_grad\u001b[49m\u001b[38;5;241;43m=\u001b[39;49m\u001b[38;5;28;43;01mTrue\u001b[39;49;00m\u001b[43m,\u001b[49m\n\u001b[1;32m    275\u001b[0m \u001b[43m\u001b[49m\u001b[43m)\u001b[49m\n",
      "File \u001b[0;32m/Library/Frameworks/Python.framework/Versions/3.12/lib/python3.12/site-packages/torch/autograd/graph.py:744\u001b[0m, in \u001b[0;36m_engine_run_backward\u001b[0;34m(t_outputs, *args, **kwargs)\u001b[0m\n\u001b[1;32m    742\u001b[0m     unregister_hooks \u001b[38;5;241m=\u001b[39m _register_logging_hooks_on_whole_graph(t_outputs)\n\u001b[1;32m    743\u001b[0m \u001b[38;5;28;01mtry\u001b[39;00m:\n\u001b[0;32m--> 744\u001b[0m     \u001b[38;5;28;01mreturn\u001b[39;00m \u001b[43mVariable\u001b[49m\u001b[38;5;241;43m.\u001b[39;49m\u001b[43m_execution_engine\u001b[49m\u001b[38;5;241;43m.\u001b[39;49m\u001b[43mrun_backward\u001b[49m\u001b[43m(\u001b[49m\u001b[43m  \u001b[49m\u001b[38;5;66;43;03m# Calls into the C++ engine to run the backward pass\u001b[39;49;00m\n\u001b[1;32m    745\u001b[0m \u001b[43m        \u001b[49m\u001b[43mt_outputs\u001b[49m\u001b[43m,\u001b[49m\u001b[43m \u001b[49m\u001b[38;5;241;43m*\u001b[39;49m\u001b[43margs\u001b[49m\u001b[43m,\u001b[49m\u001b[43m \u001b[49m\u001b[38;5;241;43m*\u001b[39;49m\u001b[38;5;241;43m*\u001b[39;49m\u001b[43mkwargs\u001b[49m\n\u001b[1;32m    746\u001b[0m \u001b[43m    \u001b[49m\u001b[43m)\u001b[49m  \u001b[38;5;66;03m# Calls into the C++ engine to run the backward pass\u001b[39;00m\n\u001b[1;32m    747\u001b[0m \u001b[38;5;28;01mfinally\u001b[39;00m:\n\u001b[1;32m    748\u001b[0m     \u001b[38;5;28;01mif\u001b[39;00m attach_logging_hooks:\n",
      "\u001b[0;31mKeyboardInterrupt\u001b[0m: "
     ]
    }
   ],
   "source": [
    "wandb.init(project=\"nanogpt-tinystories\", name=\"nanoGPT-sml-longer\", config=wandb_config)\n",
    "\n",
    "best_val_loss = float('inf')\n",
    "best_model_params_path = \"best_model_params.pt\"\n",
    "train_loss_list, validation_loss_list = [], []\n",
    "\n",
    "for epoch in tqdm(range(max_iters)):\n",
    "    if epoch%eval_iters == 0 and epoch != 0:\n",
    "        losses = estimate_loss(nanoGPT)\n",
    "        print(f\"Epoch {epoch}: train loss {losses['train']:.4f}, val loss {losses['val']:.4f}\")\n",
    "        print(f\"The current learning rate: {optimizer.param_groups[0]['lr']:.5f}\")\n",
    "        train_loss_list += [losses['train']]\n",
    "        validation_loss_list += [losses['val']]\n",
    "\n",
    "        wandb.log({\n",
    "                \"epoch\": epoch,\n",
    "                \"train/loss\": losses['train'],\n",
    "                \"val/loss\": losses['val'],\n",
    "                \"lr\": optimizer.param_groups[0]['lr']\n",
    "            })\n",
    "\n",
    "        if losses['val'] < best_val_loss:\n",
    "            best_val_loss = losses['val']\n",
    "            torch.save(nanoGPT.state_dict(), best_model_params_path)\n",
    "\n",
    "    X,y = get_batch(\"train\")\n",
    "\n",
    "    with ctx:\n",
    "        logits, loss = nanoGPT(X, y)\n",
    "        loss = loss / gradient_accumulation_steps # scale the loss to account for gradient accumulation\n",
    "        scaler.scale(loss).backward()\n",
    "\n",
    "    if ((epoch + 1) % gradient_accumulation_steps == 0) or (epoch + 1 == max_iters):\n",
    "        torch.nn.utils.clip_grad_norm_(nanoGPT.parameters(), max_norm=0.5)\n",
    "        scaler.step(optimizer)\n",
    "        scaler.update()\n",
    "        optimizer.zero_grad(set_to_none=True)\n",
    "    scheduler.step()\n",
    "\n",
    "\n",
    "wandb.finish()"
   ]
  },
  {
   "cell_type": "code",
   "execution_count": 16,
   "metadata": {
    "colab": {
     "base_uri": "https://localhost:8080/",
     "height": 449
    },
    "id": "5VvnAMRIOW_C",
    "outputId": "d1ab22d0-af11-4284-c883-7603ac132495"
   },
   "outputs": [
    {
     "data": {
      "image/png": "[encoded data removed]",
      "text/plain": [
       "<Figure size 640x480 with 1 Axes>"
      ]
     },
     "metadata": {},
     "output_type": "display_data"
    }
   ],
   "source": [
    "import matplotlib.pyplot as plt\n",
    "train_loss_list_converted = [i.cpu().detach() for i in train_loss_list]\n",
    "validation_loss_list_converted = [i.cpu().detach() for i in validation_loss_list]\n",
    "plt.plot(train_loss_list_converted, 'g', label = 'train_loss')\n",
    "plt.plot(validation_loss_list_converted, 'r', label='validation_loss')\n",
    "plt.xlabel(\"Steps - Every 100 epochs\")\n",
    "plt.ylabel(\"Loss\")\n",
    "plt.legend()\n",
    "plt.xlim(0, 500)\n",
    "plt.show()\n",
    "np.savetxt('train_loss.csv', train_loss_list_converted, delimiter=',')\n",
    "np.savetxt('validation_loss.csv', validation_loss_list_converted, delimiter=',')"
   ]
  },
  {
   "cell_type": "markdown",
   "metadata": {
    "id": "xGuy9g2pOW_D"
   },
   "source": [
    "INFERENCE"
   ]
  },
  {
   "cell_type": "code",
   "execution_count": 5,
   "metadata": {
    "colab": {
     "base_uri": "https://localhost:8080/",
     "height": 443
    },
    "id": "GcQS5gp2nARY",
    "outputId": "7ee68107-c84b-4f9d-be55-4f2d2255b8cb"
   },
   "outputs": [
    {
     "name": "stdout",
     "output_type": "stream",
     "text": [
      "number of parameters: 17.90M\n"
     ]
    },
    {
     "name": "stderr",
     "output_type": "stream",
     "text": [
      "C:\\Users\\priyankadutta\\AppData\\Local\\Temp\\ipykernel_28216\\2246708991.py:5: FutureWarning: You are using `torch.load` with `weights_only=False` (the current default value), which uses the default pickle module implicitly. It is possible to construct malicious pickle data which will execute arbitrary code during unpickling (See https://github.com/pytorch/pytorch/blob/main/SECURITY.md#untrusted-models for more details). In a future release, the default value for `weights_only` will be flipped to `True`. This limits the functions that could be executed during unpickling. Arbitrary objects will no longer be allowed to be loaded via this mode unless they are explicitly allowlisted by the user via `torch.serialization.add_safe_globals`. We recommend you start setting `weights_only=True` for any use case where you don't have full control of the loaded file. Please open an issue on GitHub for any issues related to this experimental feature.\n",
      "  nanoGPT.load_state_dict(torch.load(best_model_params_path, map_location=torch.device(device))) # load best model states\n"
     ]
    },
    {
     "data": {
      "text/plain": [
       "<All keys matched successfully>"
      ]
     },
     "execution_count": 5,
     "metadata": {},
     "output_type": "execute_result"
    }
   ],
   "source": [
    "#Load the model\n",
    "nanoGPT = GPT.GPT(config)\n",
    "device =  \"cuda\" if torch.cuda.is_available() else \"cpu\"\n",
    "best_model_params_path = \"best_model_params.pt\"\n",
    "nanoGPT.load_state_dict(torch.load(best_model_params_path, map_location=torch.device(device))) # load best model states"
   ]
  },
  {
   "cell_type": "code",
   "execution_count": null,
   "metadata": {},
   "outputs": [
    {
     "name": "stdout",
     "output_type": "stream",
     "text": [
      "Tokenizer vocab size: 200000\n",
      "Model vocab size: 65400\n",
      "\n",
      "Tokens: [2, 45, 9017, 1883, 78701, 4384, 45, 60957, 2525, 17636, 15, 3]\n",
      "Max token value: 78701\n",
      "Min token value: 2\n",
      "\n",
      "Warning: Some tokens are out of range!\n",
      "\n",
      "Input shape: torch.Size([1, 12])\n",
      "\n",
      "Generated text:\n",
      "[CLS] एक बर क വ്യാപാരി ह एक कदद थ।[SEP]!<pad> उस<pad>क<pad> म<pad> न<pad> এলো<unk> क<pad> उस<pad>क<pad> म<pad> न<pad> उस<pad>क<pad> मदद<pad> क<pad> ह<pad>।<pad> उस<pad>क<pad> म<pad> मस<pad>कर<pad>ई<pad> और<pad> बल<pad>,<pad> \"<pad>ન્ટ્સ[CLS]त<pad> भ<pad>,<pad> म<pad>,<pad> म<pad> हम<pad>श<pad> तम<pad>हर<pad> ल<pad>ए<pad> एक<pad> क<pad>क<pad> द<pad>ग<pad>!\"<pad> उस<pad>न<pad> कह<pad>,<pad> \"<pad>यह<pad> बह<pad>त<pad> गरम<pad> ह<pad>!<pad> चल<pad> इस<pad>क<pad> स<pad>थ<pad> क<pad>क<pad>य<pad> बन<pad> क<pad>छ<pad> क<pad>ग<pad>ज<pad> स<pad> बन<pad>हर<pad> क<pad> बन<pad>छ<pad>न<pad> क<pad> एक<pad> एक<pad> स<pad> सक<pad>क<pad>ज<pad> क<pad> ल<pad>त<pad> एक<pad>त<pad> <pad> सक<pad>स<pad>त<pad>त<pad> ह<pad>ज<pad> बन<pad>ट<pad> थ<pad>\n"
     ]
    }
   ],
   "source": [
    "from transformers import AutoTokenizer, AutoModelForSeq2SeqLM\n",
    "import torch\n",
    "\n",
    "# Initialize tokenizer and model\n",
    "try:\n",
    "    indictrans_tokenizer = AutoTokenizer.from_pretrained(\n",
    "        \"ai4bharat/indictrans2-en-indic-dist-200M\", trust_remote_code=True\n",
    "    )\n",
    "    indictrans_model = AutoModelForSeq2SeqLM.from_pretrained(\n",
    "        \"ai4bharat/indictrans2-en-indic-dist-200M\", trust_remote_code=True\n",
    "    )\n",
    "\n",
    "    print(f\"Tokenizer vocab size: {indictrans_tokenizer.vocab_size}\")\n",
    "\n",
    "    # Ensure that your config is set up for your NanoGPT\n",
    "    print(f\"Model vocab size: {config.vocab_size}\")\n",
    "\n",
    "    # Input sentence\n",
    "    sentence = \"एक बार की बात है \"\n",
    "\n",
    "    # Tokenize input sentence\n",
    "    tokens = indictrans_tokenizer.encode(sentence, return_tensors=\"pt\").to(device)\n",
    "\n",
    "    print(f\"\\nTokens: {tokens}\")\n",
    "    print(f\"Input token shape: {tokens.shape}\")\n",
    "\n",
    "    # Clip tokens if they exceed NanoGPT's vocabulary size\n",
    "    if tokens.max() >= config.vocab_size:\n",
    "        print(\"\\nWarning: Some tokens exceed the vocabulary size of the model!\")\n",
    "        tokens = tokens.clamp(max=config.vocab_size - 1)\n",
    "\n",
    "    # Prepare the context input\n",
    "    context = tokens.to(device)\n",
    "    print(f\"\\nContext shape: {context.shape}\")\n",
    "\n",
    "    # Set NanoGPT to evaluation mode\n",
    "    nanoGPT.eval()\n",
    "\n",
    "    # Generate text\n",
    "    with torch.no_grad():\n",
    "        with ctx:\n",
    "            try:\n",
    "                y = nanoGPT.generate(\n",
    "                    context,\n",
    "                    max_new_tokens=200,\n",
    "                    temperature=0.8,  # Control randomness for coherent output\n",
    "                    top_k=50  # Restrict sampling for meaningful output\n",
    "                )\n",
    "\n",
    "                # Convert output tokens to text\n",
    "                generated_tokens = y[0].cpu().tolist()\n",
    "                generated_text = indictrans_tokenizer.decode(generated_tokens, skip_special_tokens=True)\n",
    "\n",
    "                # Clean up generated text\n",
    "                generated_text = (\n",
    "                    generated_text.replace(\"<pad>\", \"\")\n",
    "                    .replace(\"<unk>\", \"\")\n",
    "                    .replace(\"<s>\", \"\")\n",
    "                    .replace(\"</s>\", \"\")\n",
    "                    .strip()\n",
    "                )\n",
    "\n",
    "                print(\"\\nGenerated text:\")\n",
    "                print(generated_text)\n",
    "\n",
    "            except IndexError as e:\n",
    "                print(f\"\\nIndex error during generation: {e}\")\n",
    "\n",
    "                # Handle long context issue by truncating\n",
    "                if context.size(1) > config.block_size:\n",
    "                    print(\"\\nContext is too long; truncating to fit model block size...\")\n",
    "                    context = context[:, -config.block_size:]\n",
    "                    y = nanoGPT.generate(\n",
    "                        context,\n",
    "                        max_new_tokens=50,  # Reduce the generation length for safety\n",
    "                        temperature=0.8,\n",
    "                        top_k=50\n",
    "                    )\n",
    "                    generated_tokens = y[0].cpu().tolist()\n",
    "                    generated_text = indictrans_tokenizer.decode(generated_tokens, skip_special_tokens=True)\n",
    "\n",
    "                    print(\"\\nGenerated text with truncated context:\")\n",
    "                    print(generated_text)\n",
    "\n",
    "except Exception as e:\n",
    "    print(f\"\\nError: {str(e)}\")\n",
    "    import traceback\n",
    "    traceback.print_exc()\n"
   ]
  },
  {
   "cell_type": "markdown",
   "metadata": {},
   "source": [
    "Inference code to remove the \"padding\" and \"special characters\""
   ]
  },
  {
   "cell_type": "code",
   "execution_count": null,
   "metadata": {},
   "outputs": [],
   "source": []
  }
 ],
 "metadata": {
  "accelerator": "GPU",
  "colab": {
   "gpuType": "A100",
   "machine_shape": "hm",
   "provenance": []
  },
  "kernelspec": {
   "display_name": "Python 3",
   "name": "python3"
  },
  "language_info": {
   "codemirror_mode": {
    "name": "ipython",
    "version": 3
   },
   "file_extension": ".py",
   "mimetype": "text/x-python",
   "name": "python",
   "nbconvert_exporter": "python",
   "pygments_lexer": "ipython3",
   "version": "3.12.2"
  },
  "widgets": {
   "application/vnd.jupyter.widget-state+json": {
    "00c4c17b9c2a44aba123fbc1990dbdf6": {
     "model_module": "@jupyter-widgets/controls",
     "model_module_version": "1.5.0",
     "model_name": "HTMLModel",
     "state": {
      "_dom_classes": [],
      "_model_module": "@jupyter-widgets/controls",
      "_model_module_version": "1.5.0",
      "_model_name": "HTMLModel",
      "_view_count": null,
      "_view_module": "@jupyter-widgets/controls",
      "_view_module_version": "1.5.0",
      "_view_name": "HTMLView",
      "description": "",
      "description_tooltip": null,
      "layout": "IPY_MODEL_a0482b60ad9c489b9669d77a22619106",
      "placeholder": "​",
      "style": "IPY_MODEL_988e434de15e4a9dbfc84e098db9b6fd",
      "value": "config.json: 100%"
     }
    },
    "1608adce0c5a46c4b79792468e3f752e": {
     "model_module": "@jupyter-widgets/base",
     "model_module_version": "1.2.0",
     "model_name": "LayoutModel",
     "state": {
      "_model_module": "@jupyter-widgets/base",
      "_model_module_version": "1.2.0",
      "_model_name": "LayoutModel",
      "_view_count": null,
      "_view_module": "@jupyter-widgets/base",
      "_view_module_version": "1.2.0",
      "_view_name": "LayoutView",
      "align_content": null,
      "align_items": null,
      "align_self": null,
      "border": null,
      "bottom": null,
      "display": null,
      "flex": null,
      "flex_flow": null,
      "grid_area": null,
      "grid_auto_columns": null,
      "grid_auto_flow": null,
      "grid_auto_rows": null,
      "grid_column": null,
      "grid_gap": null,
      "grid_row": null,
      "grid_template_areas": null,
      "grid_template_columns": null,
      "grid_template_rows": null,
      "height": null,
      "justify_content": null,
      "justify_items": null,
      "left": null,
      "margin": null,
      "max_height": null,
      "max_width": null,
      "min_height": null,
      "min_width": null,
      "object_fit": null,
      "object_position": null,
      "order": null,
      "overflow": null,
      "overflow_x": null,
      "overflow_y": null,
      "padding": null,
      "right": null,
      "top": null,
      "visibility": null,
      "width": null
     }
    },
    "19f45cdd0e0c4137a0449fe1e990fa69": {
     "model_module": "@jupyter-widgets/base",
     "model_module_version": "1.2.0",
     "model_name": "LayoutModel",
     "state": {
      "_model_module": "@jupyter-widgets/base",
      "_model_module_version": "1.2.0",
      "_model_name": "LayoutModel",
      "_view_count": null,
      "_view_module": "@jupyter-widgets/base",
      "_view_module_version": "1.2.0",
      "_view_name": "LayoutView",
      "align_content": null,
      "align_items": null,
      "align_self": null,
      "border": null,
      "bottom": null,
      "display": null,
      "flex": null,
      "flex_flow": null,
      "grid_area": null,
      "grid_auto_columns": null,
      "grid_auto_flow": null,
      "grid_auto_rows": null,
      "grid_column": null,
      "grid_gap": null,
      "grid_row": null,
      "grid_template_areas": null,
      "grid_template_columns": null,
      "grid_template_rows": null,
      "height": null,
      "justify_content": null,
      "justify_items": null,
      "left": null,
      "margin": null,
      "max_height": null,
      "max_width": null,
      "min_height": null,
      "min_width": null,
      "object_fit": null,
      "object_position": null,
      "order": null,
      "overflow": null,
      "overflow_x": null,
      "overflow_y": null,
      "padding": null,
      "right": null,
      "top": null,
      "visibility": null,
      "width": null
     }
    },
    "2e576622c15843b681d0b2ece9e59df8": {
     "model_module": "@jupyter-widgets/controls",
     "model_module_version": "1.5.0",
     "model_name": "HTMLModel",
     "state": {
      "_dom_classes": [],
      "_model_module": "@jupyter-widgets/controls",
      "_model_module_version": "1.5.0",
      "_model_name": "HTMLModel",
      "_view_count": null,
      "_view_module": "@jupyter-widgets/controls",
      "_view_module_version": "1.5.0",
      "_view_name": "HTMLView",
      "description": "",
      "description_tooltip": null,
      "layout": "IPY_MODEL_1608adce0c5a46c4b79792468e3f752e",
      "placeholder": "​",
      "style": "IPY_MODEL_c96852b060544250b5f981745e16a8ed",
      "value": " 507/507 [00:00&lt;00:00, 43.7kB/s]"
     }
    },
    "3685092aa2c04c7887f9c4be409f38f6": {
     "model_module": "@jupyter-widgets/base",
     "model_module_version": "1.2.0",
     "model_name": "LayoutModel",
     "state": {
      "_model_module": "@jupyter-widgets/base",
      "_model_module_version": "1.2.0",
      "_model_name": "LayoutModel",
      "_view_count": null,
      "_view_module": "@jupyter-widgets/base",
      "_view_module_version": "1.2.0",
      "_view_name": "LayoutView",
      "align_content": null,
      "align_items": null,
      "align_self": null,
      "border": null,
      "bottom": null,
      "display": null,
      "flex": null,
      "flex_flow": null,
      "grid_area": null,
      "grid_auto_columns": null,
      "grid_auto_flow": null,
      "grid_auto_rows": null,
      "grid_column": null,
      "grid_gap": null,
      "grid_row": null,
      "grid_template_areas": null,
      "grid_template_columns": null,
      "grid_template_rows": null,
      "height": null,
      "justify_content": null,
      "justify_items": null,
      "left": null,
      "margin": null,
      "max_height": null,
      "max_width": null,
      "min_height": null,
      "min_width": null,
      "object_fit": null,
      "object_position": null,
      "order": null,
      "overflow": null,
      "overflow_x": null,
      "overflow_y": null,
      "padding": null,
      "right": null,
      "top": null,
      "visibility": null,
      "width": null
     }
    },
    "39732ae7fbb64ada9c507617cc7e2ae8": {
     "model_module": "@jupyter-widgets/base",
     "model_module_version": "1.2.0",
     "model_name": "LayoutModel",
     "state": {
      "_model_module": "@jupyter-widgets/base",
      "_model_module_version": "1.2.0",
      "_model_name": "LayoutModel",
      "_view_count": null,
      "_view_module": "@jupyter-widgets/base",
      "_view_module_version": "1.2.0",
      "_view_name": "LayoutView",
      "align_content": null,
      "align_items": null,
      "align_self": null,
      "border": null,
      "bottom": null,
      "display": null,
      "flex": null,
      "flex_flow": null,
      "grid_area": null,
      "grid_auto_columns": null,
      "grid_auto_flow": null,
      "grid_auto_rows": null,
      "grid_column": null,
      "grid_gap": null,
      "grid_row": null,
      "grid_template_areas": null,
      "grid_template_columns": null,
      "grid_template_rows": null,
      "height": null,
      "justify_content": null,
      "justify_items": null,
      "left": null,
      "margin": null,
      "max_height": null,
      "max_width": null,
      "min_height": null,
      "min_width": null,
      "object_fit": null,
      "object_position": null,
      "order": null,
      "overflow": null,
      "overflow_x": null,
      "overflow_y": null,
      "padding": null,
      "right": null,
      "top": null,
      "visibility": null,
      "width": null
     }
    },
    "6d1b2d51747a49ef8418aeead2870a49": {
     "model_module": "@jupyter-widgets/controls",
     "model_module_version": "1.5.0",
     "model_name": "ProgressStyleModel",
     "state": {
      "_model_module": "@jupyter-widgets/controls",
      "_model_module_version": "1.5.0",
      "_model_name": "ProgressStyleModel",
      "_view_count": null,
      "_view_module": "@jupyter-widgets/base",
      "_view_module_version": "1.2.0",
      "_view_name": "StyleView",
      "bar_color": null,
      "description_width": ""
     }
    },
    "73a244947f364462ba648439dd20d62d": {
     "model_module": "@jupyter-widgets/controls",
     "model_module_version": "1.5.0",
     "model_name": "HTMLModel",
     "state": {
      "_dom_classes": [],
      "_model_module": "@jupyter-widgets/controls",
      "_model_module_version": "1.5.0",
      "_model_name": "HTMLModel",
      "_view_count": null,
      "_view_module": "@jupyter-widgets/controls",
      "_view_module_version": "1.5.0",
      "_view_name": "HTMLView",
      "description": "",
      "description_tooltip": null,
      "layout": "IPY_MODEL_19f45cdd0e0c4137a0449fe1e990fa69",
      "placeholder": "​",
      "style": "IPY_MODEL_aaf94ea3be8a4773bbd0e302f14c0879",
      "value": " 5.65M/5.65M [00:00&lt;00:00, 24.0MB/s]"
     }
    },
    "7bf4e9376c914f9cb525901ca61ff1a6": {
     "model_module": "@jupyter-widgets/base",
     "model_module_version": "1.2.0",
     "model_name": "LayoutModel",
     "state": {
      "_model_module": "@jupyter-widgets/base",
      "_model_module_version": "1.2.0",
      "_model_name": "LayoutModel",
      "_view_count": null,
      "_view_module": "@jupyter-widgets/base",
      "_view_module_version": "1.2.0",
      "_view_name": "LayoutView",
      "align_content": null,
      "align_items": null,
      "align_self": null,
      "border": null,
      "bottom": null,
      "display": null,
      "flex": null,
      "flex_flow": null,
      "grid_area": null,
      "grid_auto_columns": null,
      "grid_auto_flow": null,
      "grid_auto_rows": null,
      "grid_column": null,
      "grid_gap": null,
      "grid_row": null,
      "grid_template_areas": null,
      "grid_template_columns": null,
      "grid_template_rows": null,
      "height": null,
      "justify_content": null,
      "justify_items": null,
      "left": null,
      "margin": null,
      "max_height": null,
      "max_width": null,
      "min_height": null,
      "min_width": null,
      "object_fit": null,
      "object_position": null,
      "order": null,
      "overflow": null,
      "overflow_x": null,
      "overflow_y": null,
      "padding": null,
      "right": null,
      "top": null,
      "visibility": null,
      "width": null
     }
    },
    "95bd9b75164347f286c0a0fcb46e2338": {
     "model_module": "@jupyter-widgets/base",
     "model_module_version": "1.2.0",
     "model_name": "LayoutModel",
     "state": {
      "_model_module": "@jupyter-widgets/base",
      "_model_module_version": "1.2.0",
      "_model_name": "LayoutModel",
      "_view_count": null,
      "_view_module": "@jupyter-widgets/base",
      "_view_module_version": "1.2.0",
      "_view_name": "LayoutView",
      "align_content": null,
      "align_items": null,
      "align_self": null,
      "border": null,
      "bottom": null,
      "display": null,
      "flex": null,
      "flex_flow": null,
      "grid_area": null,
      "grid_auto_columns": null,
      "grid_auto_flow": null,
      "grid_auto_rows": null,
      "grid_column": null,
      "grid_gap": null,
      "grid_row": null,
      "grid_template_areas": null,
      "grid_template_columns": null,
      "grid_template_rows": null,
      "height": null,
      "justify_content": null,
      "justify_items": null,
      "left": null,
      "margin": null,
      "max_height": null,
      "max_width": null,
      "min_height": null,
      "min_width": null,
      "object_fit": null,
      "object_position": null,
      "order": null,
      "overflow": null,
      "overflow_x": null,
      "overflow_y": null,
      "padding": null,
      "right": null,
      "top": null,
      "visibility": null,
      "width": null
     }
    },
    "988e434de15e4a9dbfc84e098db9b6fd": {
     "model_module": "@jupyter-widgets/controls",
     "model_module_version": "1.5.0",
     "model_name": "DescriptionStyleModel",
     "state": {
      "_model_module": "@jupyter-widgets/controls",
      "_model_module_version": "1.5.0",
      "_model_name": "DescriptionStyleModel",
      "_view_count": null,
      "_view_module": "@jupyter-widgets/base",
      "_view_module_version": "1.2.0",
      "_view_name": "StyleView",
      "description_width": ""
     }
    },
    "a0482b60ad9c489b9669d77a22619106": {
     "model_module": "@jupyter-widgets/base",
     "model_module_version": "1.2.0",
     "model_name": "LayoutModel",
     "state": {
      "_model_module": "@jupyter-widgets/base",
      "_model_module_version": "1.2.0",
      "_model_name": "LayoutModel",
      "_view_count": null,
      "_view_module": "@jupyter-widgets/base",
      "_view_module_version": "1.2.0",
      "_view_name": "LayoutView",
      "align_content": null,
      "align_items": null,
      "align_self": null,
      "border": null,
      "bottom": null,
      "display": null,
      "flex": null,
      "flex_flow": null,
      "grid_area": null,
      "grid_auto_columns": null,
      "grid_auto_flow": null,
      "grid_auto_rows": null,
      "grid_column": null,
      "grid_gap": null,
      "grid_row": null,
      "grid_template_areas": null,
      "grid_template_columns": null,
      "grid_template_rows": null,
      "height": null,
      "justify_content": null,
      "justify_items": null,
      "left": null,
      "margin": null,
      "max_height": null,
      "max_width": null,
      "min_height": null,
      "min_width": null,
      "object_fit": null,
      "object_position": null,
      "order": null,
      "overflow": null,
      "overflow_x": null,
      "overflow_y": null,
      "padding": null,
      "right": null,
      "top": null,
      "visibility": null,
      "width": null
     }
    },
    "a6676f1c07304d8699631a5f9312a736": {
     "model_module": "@jupyter-widgets/controls",
     "model_module_version": "1.5.0",
     "model_name": "FloatProgressModel",
     "state": {
      "_dom_classes": [],
      "_model_module": "@jupyter-widgets/controls",
      "_model_module_version": "1.5.0",
      "_model_name": "FloatProgressModel",
      "_view_count": null,
      "_view_module": "@jupyter-widgets/controls",
      "_view_module_version": "1.5.0",
      "_view_name": "ProgressView",
      "bar_style": "success",
      "description": "",
      "description_tooltip": null,
      "layout": "IPY_MODEL_3685092aa2c04c7887f9c4be409f38f6",
      "max": 5646064,
      "min": 0,
      "orientation": "horizontal",
      "style": "IPY_MODEL_e9dbbb22cb8d4ed99cc3825b4a47fe94",
      "value": 5646064
     }
    },
    "a86180aae66840eab98803c8d700ae0e": {
     "model_module": "@jupyter-widgets/controls",
     "model_module_version": "1.5.0",
     "model_name": "HBoxModel",
     "state": {
      "_dom_classes": [],
      "_model_module": "@jupyter-widgets/controls",
      "_model_module_version": "1.5.0",
      "_model_name": "HBoxModel",
      "_view_count": null,
      "_view_module": "@jupyter-widgets/controls",
      "_view_module_version": "1.5.0",
      "_view_name": "HBoxView",
      "box_style": "",
      "children": [
       "IPY_MODEL_beb4e69e8efb42f096c64af772a89d33",
       "IPY_MODEL_a6676f1c07304d8699631a5f9312a736",
       "IPY_MODEL_73a244947f364462ba648439dd20d62d"
      ],
      "layout": "IPY_MODEL_7bf4e9376c914f9cb525901ca61ff1a6"
     }
    },
    "aaf94ea3be8a4773bbd0e302f14c0879": {
     "model_module": "@jupyter-widgets/controls",
     "model_module_version": "1.5.0",
     "model_name": "DescriptionStyleModel",
     "state": {
      "_model_module": "@jupyter-widgets/controls",
      "_model_module_version": "1.5.0",
      "_model_name": "DescriptionStyleModel",
      "_view_count": null,
      "_view_module": "@jupyter-widgets/base",
      "_view_module_version": "1.2.0",
      "_view_name": "StyleView",
      "description_width": ""
     }
    },
    "aed6aa1b5b2b4d8b8bb044f247b5c2b4": {
     "model_module": "@jupyter-widgets/base",
     "model_module_version": "1.2.0",
     "model_name": "LayoutModel",
     "state": {
      "_model_module": "@jupyter-widgets/base",
      "_model_module_version": "1.2.0",
      "_model_name": "LayoutModel",
      "_view_count": null,
      "_view_module": "@jupyter-widgets/base",
      "_view_module_version": "1.2.0",
      "_view_name": "LayoutView",
      "align_content": null,
      "align_items": null,
      "align_self": null,
      "border": null,
      "bottom": null,
      "display": null,
      "flex": null,
      "flex_flow": null,
      "grid_area": null,
      "grid_auto_columns": null,
      "grid_auto_flow": null,
      "grid_auto_rows": null,
      "grid_column": null,
      "grid_gap": null,
      "grid_row": null,
      "grid_template_areas": null,
      "grid_template_columns": null,
      "grid_template_rows": null,
      "height": null,
      "justify_content": null,
      "justify_items": null,
      "left": null,
      "margin": null,
      "max_height": null,
      "max_width": null,
      "min_height": null,
      "min_width": null,
      "object_fit": null,
      "object_position": null,
      "order": null,
      "overflow": null,
      "overflow_x": null,
      "overflow_y": null,
      "padding": null,
      "right": null,
      "top": null,
      "visibility": null,
      "width": null
     }
    },
    "beb4e69e8efb42f096c64af772a89d33": {
     "model_module": "@jupyter-widgets/controls",
     "model_module_version": "1.5.0",
     "model_name": "HTMLModel",
     "state": {
      "_dom_classes": [],
      "_model_module": "@jupyter-widgets/controls",
      "_model_module_version": "1.5.0",
      "_model_name": "HTMLModel",
      "_view_count": null,
      "_view_module": "@jupyter-widgets/controls",
      "_view_module_version": "1.5.0",
      "_view_name": "HTMLView",
      "description": "",
      "description_tooltip": null,
      "layout": "IPY_MODEL_39732ae7fbb64ada9c507617cc7e2ae8",
      "placeholder": "​",
      "style": "IPY_MODEL_da8e8b8bfc894b98b11133aaea98cc71",
      "value": "spiece.model: 100%"
     }
    },
    "c96852b060544250b5f981745e16a8ed": {
     "model_module": "@jupyter-widgets/controls",
     "model_module_version": "1.5.0",
     "model_name": "DescriptionStyleModel",
     "state": {
      "_model_module": "@jupyter-widgets/controls",
      "_model_module_version": "1.5.0",
      "_model_name": "DescriptionStyleModel",
      "_view_count": null,
      "_view_module": "@jupyter-widgets/base",
      "_view_module_version": "1.2.0",
      "_view_name": "StyleView",
      "description_width": ""
     }
    },
    "da8e8b8bfc894b98b11133aaea98cc71": {
     "model_module": "@jupyter-widgets/controls",
     "model_module_version": "1.5.0",
     "model_name": "DescriptionStyleModel",
     "state": {
      "_model_module": "@jupyter-widgets/controls",
      "_model_module_version": "1.5.0",
      "_model_name": "DescriptionStyleModel",
      "_view_count": null,
      "_view_module": "@jupyter-widgets/base",
      "_view_module_version": "1.2.0",
      "_view_name": "StyleView",
      "description_width": ""
     }
    },
    "e1cb9fd654b24af39efb5ca966cc899d": {
     "model_module": "@jupyter-widgets/controls",
     "model_module_version": "1.5.0",
     "model_name": "FloatProgressModel",
     "state": {
      "_dom_classes": [],
      "_model_module": "@jupyter-widgets/controls",
      "_model_module_version": "1.5.0",
      "_model_name": "FloatProgressModel",
      "_view_count": null,
      "_view_module": "@jupyter-widgets/controls",
      "_view_module_version": "1.5.0",
      "_view_name": "ProgressView",
      "bar_style": "success",
      "description": "",
      "description_tooltip": null,
      "layout": "IPY_MODEL_95bd9b75164347f286c0a0fcb46e2338",
      "max": 507,
      "min": 0,
      "orientation": "horizontal",
      "style": "IPY_MODEL_6d1b2d51747a49ef8418aeead2870a49",
      "value": 507
     }
    },
    "e331ffd1870f4cd783c550121d2fd8f4": {
     "model_module": "@jupyter-widgets/controls",
     "model_module_version": "1.5.0",
     "model_name": "HBoxModel",
     "state": {
      "_dom_classes": [],
      "_model_module": "@jupyter-widgets/controls",
      "_model_module_version": "1.5.0",
      "_model_name": "HBoxModel",
      "_view_count": null,
      "_view_module": "@jupyter-widgets/controls",
      "_view_module_version": "1.5.0",
      "_view_name": "HBoxView",
      "box_style": "",
      "children": [
       "IPY_MODEL_00c4c17b9c2a44aba123fbc1990dbdf6",
       "IPY_MODEL_e1cb9fd654b24af39efb5ca966cc899d",
       "IPY_MODEL_2e576622c15843b681d0b2ece9e59df8"
      ],
      "layout": "IPY_MODEL_aed6aa1b5b2b4d8b8bb044f247b5c2b4"
     }
    },
    "e9dbbb22cb8d4ed99cc3825b4a47fe94": {
     "model_module": "@jupyter-widgets/controls",
     "model_module_version": "1.5.0",
     "model_name": "ProgressStyleModel",
     "state": {
      "_model_module": "@jupyter-widgets/controls",
      "_model_module_version": "1.5.0",
      "_model_name": "ProgressStyleModel",
      "_view_count": null,
      "_view_module": "@jupyter-widgets/base",
      "_view_module_version": "1.2.0",
      "_view_name": "StyleView",
      "bar_color": null,
      "description_width": ""
     }
    }
   }
  }
 },
 "nbformat": 4,
 "nbformat_minor": 0
}
